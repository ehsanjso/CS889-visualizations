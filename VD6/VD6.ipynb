{
  "nbformat": 4,
  "nbformat_minor": 0,
  "metadata": {
    "colab": {
      "name": "VD6",
      "provenance": []
    },
    "kernelspec": {
      "name": "python3",
      "display_name": "Python 3"
    },
    "language_info": {
      "name": "python"
    }
  },
  "cells": [
    {
      "cell_type": "markdown",
      "metadata": {
        "id": "ZLSaeCFxDlIo"
      },
      "source": [
        "# Attribution to https://www.kaggle.com/ellaphamvn/state-of-the-union-topic-modelling"
      ]
    },
    {
      "cell_type": "code",
      "metadata": {
        "colab": {
          "base_uri": "https://localhost:8080/"
        },
        "id": "wHygPVkTzPCa",
        "outputId": "95fb4c62-44f0-478a-f545-799c59801e80"
      },
      "source": [
        "from google.colab import drive\n",
        "drive.mount('/content/drive')"
      ],
      "execution_count": null,
      "outputs": [
        {
          "output_type": "stream",
          "text": [
            "Drive already mounted at /content/drive; to attempt to forcibly remount, call drive.mount(\"/content/drive\", force_remount=True).\n"
          ],
          "name": "stdout"
        }
      ]
    },
    {
      "cell_type": "code",
      "metadata": {
        "id": "9Xa-7EJvnTAh"
      },
      "source": [
        "import numpy as np # linear algebra\n",
        "import pandas as pd # data processing, CSV file I/O (e.g. pd.read_csv)\n",
        "import os"
      ],
      "execution_count": null,
      "outputs": []
    },
    {
      "cell_type": "code",
      "metadata": {
        "id": "mAd9Pu3geNub"
      },
      "source": [
        "path = '/content/drive/MyDrive/VD6/archive/sotu/'\n",
        "dirs = os.listdir(path)\n",
        "\n",
        "df = pd.DataFrame(columns=['year', 'president', 'text', 'party'])\n",
        "\n",
        "\n",
        "for i in range(len(dirs)):\n",
        "    components = dirs[i].split('_')\n",
        "    name = components[0]\n",
        "    year = components[1].split('.')[0]\n",
        "    df.loc[i,'year'] = year\n",
        "    df.loc[i,'president'] = name   \n",
        "    \n",
        "    filename = os.path.join(path, dirs[i])\n",
        "    text_file = open(filename, \"r\")\n",
        "    \n",
        "    lines = text_file.read()\n",
        "    df.loc[i, 'text'] = lines.replace('\\n', ' ')\n",
        "    \n",
        "df.year = df.year.astype(int) \n",
        "df.president = df.president.astype(str)\n",
        "df.text = df.text.astype(str)"
      ],
      "execution_count": null,
      "outputs": []
    },
    {
      "cell_type": "code",
      "metadata": {
        "colab": {
          "base_uri": "https://localhost:8080/"
        },
        "id": "xoXn2v_QelYk",
        "outputId": "07101380-907d-42d0-b1b2-34dc718ebadd"
      },
      "source": [
        "df.info()"
      ],
      "execution_count": null,
      "outputs": [
        {
          "output_type": "stream",
          "text": [
            "<class 'pandas.core.frame.DataFrame'>\n",
            "Int64Index: 228 entries, 0 to 227\n",
            "Data columns (total 4 columns):\n",
            " #   Column     Non-Null Count  Dtype \n",
            "---  ------     --------------  ----- \n",
            " 0   year       228 non-null    int64 \n",
            " 1   president  228 non-null    object\n",
            " 2   text       228 non-null    object\n",
            " 3   party      0 non-null      object\n",
            "dtypes: int64(1), object(3)\n",
            "memory usage: 18.9+ KB\n"
          ],
          "name": "stdout"
        }
      ]
    },
    {
      "cell_type": "code",
      "metadata": {
        "id": "AtyHfPr0zz2n"
      },
      "source": [
        "# need to distinuish between Theodore Roosevelt and Franklin D. Roosevelt\n",
        "#thank you to kaggle user mjmurphy28 for this code\n",
        "indices = df.query(\"president =='Roosevelt' & year <= 1909\").index\n",
        "df.loc[indices,'president'] = 'Theodore Roosevelt'\n",
        "\n",
        "indices = df.query(\"president == 'Roosevelt'\").index\n",
        "df.loc[indices,'president'] = 'Franklin D. Roosevelt'\n",
        "\n",
        "indices = df.query(\"president =='Bush' & year <= 1992\").index\n",
        "df.loc[indices,'president'] = 'George H. W. Bush'\n",
        "\n",
        "indices = df.query(\"president == 'Bush'\").index\n",
        "df.loc[indices,'president'] = 'George W. Bush'\n",
        "\n",
        "indices = df.query(\"president =='Johnson' & year <= 1869\").index\n",
        "df.loc[indices,'president'] = 'Andrew Johnson'\n",
        "\n",
        "indices = df.query(\"president == 'Johnson'\").index\n",
        "df.loc[indices,'president'] = 'Lyndon B. Johnson'\n",
        "\n",
        "indices = df.query(\"president =='Adams' & year <= 1801\").index\n",
        "df.loc[indices,'president'] = 'John Adams'\n",
        "\n",
        "indices = df.query(\"president == 'Adams'\").index\n",
        "df.loc[indices,'president'] = 'John Quincy Adams'\n",
        "\n",
        "indices = df.query(\"president =='Harrison' & year <= 1841\").index\n",
        "df.loc[indices,'president'] = 'William Henry Harrison'\n",
        "\n",
        "indices = df.query(\"president == 'Harrison'\").index\n",
        "df.loc[indices,'president'] = 'Benjamin Harrison'\n",
        "\n",
        "#thank you to kaggle user mjmurphy28 for this code"
      ],
      "execution_count": null,
      "outputs": []
    },
    {
      "cell_type": "code",
      "metadata": {
        "id": "55mciji8z4bJ"
      },
      "source": [
        "#add party name to each year\n",
        "#thank you to kaggle user mjmurphy28 for this code\n",
        "def pres_to_party(name):\n",
        "    republican = ['Lincoln', 'Grant', 'Hayes', 'Garfield', 'Arthur', \n",
        "                  'Benjamin Harrison', 'McKinley', 'Theodore Roosevelt', \n",
        "                  'Taft', 'Harding', 'Coolidge', 'Hoover', 'Eisenhower', \n",
        "                  'Nixon', 'Ford', 'Reagan', 'George H. W. Bush', \n",
        "                  'George W. Bush', 'Trump']\n",
        "    if name in republican:\n",
        "        return 'Republican'\n",
        "    \n",
        "    democratic = ['Jackson', 'Buren', 'Polk', 'Pierce', \n",
        "                  'Buchanan', 'Cleveland', 'Wilson', 'Franklin D. Roosevelt', \n",
        "                  'Truman', 'Kennedy', 'Lyndon B. Johnson', 'Carter', 'Clinton', 'Obama']\n",
        "    if name in democratic:\n",
        "        return 'Democratic'\n",
        "    \n",
        "    whig = ['William Henry Harrison', 'Taylor', 'Fillmore']\n",
        "    if name in whig:\n",
        "        return 'Whig'\n",
        "    \n",
        "    national_union = ['Andrew Johnson']\n",
        "    if name in national_union:\n",
        "        return 'National Union'\n",
        "    \n",
        "    unaffiliated = ['Washington', 'Tyler']\n",
        "    if name in unaffiliated:\n",
        "        return 'Unaffiliated'\n",
        "    \n",
        "    federalist = ['John Adams']\n",
        "    if name in federalist:\n",
        "        return 'Federalist'\n",
        "    \n",
        "    democratic_republican = ['Jefferson', 'Madison', 'Monroe', 'John Quincy Adams']\n",
        "    if name in democratic_republican:\n",
        "        return 'Democratic-Republican'\n",
        "    \n",
        "df.party = df.president.apply(pres_to_party)"
      ],
      "execution_count": null,
      "outputs": []
    },
    {
      "cell_type": "code",
      "metadata": {
        "colab": {
          "base_uri": "https://localhost:8080/"
        },
        "id": "d1rohfPez70L",
        "outputId": "2adc0b0e-2ac9-4e75-b1a2-506447c9c3ee"
      },
      "source": [
        "from sklearn.feature_extraction.text import TfidfVectorizer\n",
        "from sklearn.metrics.pairwise import linear_kernel\n",
        "from nltk import word_tokenize          \n",
        "from nltk.stem import WordNetLemmatizer\n",
        "import nltk\n",
        "nltk.download('stopwords')\n",
        "nltk.download('wordnet')\n",
        "\n",
        "# Download stopwords list\n",
        "nltk.download('punkt')\n",
        "stop_words = set(stopwords.words('english')) \n",
        "\n",
        "# Interface lemma tokenizer from nltk with sklearn\n",
        "# Thank you to kaggle user mjmurphy28 for this code\n",
        "class LemmaTokenizer:\n",
        "    ignore_tokens = [',', '.', ';', ':', '\"', '``', \"''\", '`', '--', '-','...', 'american', 'america', 'world']\n",
        "    def __init__(self):\n",
        "        self.wnl = WordNetLemmatizer()\n",
        "    def __call__(self, doc):\n",
        "        return [self.wnl.lemmatize(t) for t in word_tokenize(doc) if t not in self.ignore_tokens]\n",
        "\n",
        "# Lemmatize the stop words\n",
        "tokenizer=LemmaTokenizer()\n",
        "token_stop = tokenizer(' '.join(stop_words))\n",
        "documents = df['text']"
      ],
      "execution_count": null,
      "outputs": [
        {
          "output_type": "stream",
          "text": [
            "[nltk_data] Downloading package stopwords to /root/nltk_data...\n",
            "[nltk_data]   Package stopwords is already up-to-date!\n",
            "[nltk_data] Downloading package wordnet to /root/nltk_data...\n",
            "[nltk_data]   Unzipping corpora/wordnet.zip.\n",
            "[nltk_data] Downloading package punkt to /root/nltk_data...\n",
            "[nltk_data]   Package punkt is already up-to-date!\n"
          ],
          "name": "stdout"
        }
      ]
    },
    {
      "cell_type": "code",
      "metadata": {
        "colab": {
          "base_uri": "https://localhost:8080/"
        },
        "id": "1XQVr2LFz-Pz",
        "outputId": "12a4e769-ff9b-4fae-af8d-e7e7502d1b2e"
      },
      "source": [
        "from nltk.corpus import wordnet\n",
        "nltk.download('averaged_perceptron_tagger')\n",
        "\n",
        "#Return pos tag in wordnetlemmatizer format\n",
        "\n",
        "def get_wordnet_pos(word):\n",
        "    tag = nltk.pos_tag([word])[0][1][0].upper()\n",
        "    tag_dict = {\n",
        "        'J': wordnet.ADJ,\n",
        "        'N': wordnet.NOUN,\n",
        "        'V': wordnet.VERB,\n",
        "        'R': wordnet.ADV\n",
        "    }\n",
        "    return tag_dict.get(tag, wordnet.NOUN)\n",
        "\n",
        "#Create the lemmatoken\n",
        "# Interface lemma tokenizer from nltk with sklearn\n",
        "class POSLemmaTokenizer:\n",
        "    ignore_tokens = [',', '.', ';', ':', '\"', '``', \"''\", '`', '--', '-', '...', 'american', 'america', 'world']\n",
        "    def __init__(self):\n",
        "        self.wnl = WordNetLemmatizer()\n",
        "    def __call__(self, doc):\n",
        "        return [self.wnl.lemmatize(t, get_wordnet_pos(t)) for t in word_tokenize(doc) if t not in self.ignore_tokens]\n",
        "\n",
        "# Lemmatize the stop words\n",
        "pos_tokenizer=POSLemmaTokenizer()\n",
        "pos_token_stop=pos_tokenizer(' '.join(stop_words))"
      ],
      "execution_count": null,
      "outputs": [
        {
          "output_type": "stream",
          "text": [
            "[nltk_data] Downloading package averaged_perceptron_tagger to\n",
            "[nltk_data]     /root/nltk_data...\n",
            "[nltk_data]   Unzipping taggers/averaged_perceptron_tagger.zip.\n"
          ],
          "name": "stdout"
        }
      ]
    },
    {
      "cell_type": "code",
      "metadata": {
        "colab": {
          "base_uri": "https://localhost:8080/"
        },
        "id": "TWoQbSxz0Xah",
        "outputId": "156944cb-3ed4-40f3-d6f7-a8f5af8ea317"
      },
      "source": [
        "# Create TF-idf model\n",
        "vectorizer = TfidfVectorizer(stop_words=token_stop, \n",
        "                              tokenizer=tokenizer)\n",
        "#Fit transform current document\n",
        "tfidf_doc = vectorizer.fit_transform(documents)\n",
        "\n",
        "tfidf_array = tfidf_doc.toarray()\n",
        "tfidf_df = pd.DataFrame(tfidf_array, columns = vectorizer.get_feature_names())\n",
        "tfidf_df.info()"
      ],
      "execution_count": null,
      "outputs": [
        {
          "output_type": "stream",
          "text": [
            "<class 'pandas.core.frame.DataFrame'>\n",
            "RangeIndex: 228 entries, 0 to 227\n",
            "Columns: 26795 entries, ! to zuloaga\n",
            "dtypes: float64(26795)\n",
            "memory usage: 46.6 MB\n"
          ],
          "name": "stdout"
        }
      ]
    },
    {
      "cell_type": "code",
      "metadata": {
        "colab": {
          "base_uri": "https://localhost:8080/"
        },
        "id": "zTqu7Cth0eso",
        "outputId": "4987a7fb-5256-4d6d-eb4f-edc2cb53b044"
      },
      "source": [
        "# Create TF-idf model\n",
        "pos_vectorizer = TfidfVectorizer(stop_words=pos_token_stop, \n",
        "                              tokenizer=pos_tokenizer)\n",
        "#Fit transform current document\n",
        "pos_tfidf_doc = pos_vectorizer.fit_transform(documents)\n",
        "\n",
        "pos_tfidf_array = pos_tfidf_doc.toarray()\n",
        "pos_tfidf_df = pd.DataFrame(pos_tfidf_array, columns = pos_vectorizer.get_feature_names())\n",
        "pos_tfidf_df.info()"
      ],
      "execution_count": null,
      "outputs": [
        {
          "output_type": "stream",
          "text": [
            "<class 'pandas.core.frame.DataFrame'>\n",
            "RangeIndex: 228 entries, 0 to 227\n",
            "Columns: 23483 entries, ! to zuloaga\n",
            "dtypes: float64(23483)\n",
            "memory usage: 40.8 MB\n"
          ],
          "name": "stdout"
        }
      ]
    },
    {
      "cell_type": "code",
      "metadata": {
        "colab": {
          "base_uri": "https://localhost:8080/"
        },
        "id": "aNa2yMnf0iSH",
        "outputId": "7da27d25-8df9-406b-df6f-99d60c407468"
      },
      "source": [
        "df['topic'] = np.arange(0,228)\n",
        "\n",
        "#Print out the topic-representing words in each year SOTU speech: \n",
        "for i in range(0, 228):\n",
        "    topc = []\n",
        "    topic_words = tfidf_df.iloc[i, :].sort_values().tail(5).reset_index()\n",
        "    for word in topic_words['index']:\n",
        "        topc.append(word)\n",
        "    df['topic'][i] = topc"
      ],
      "execution_count": null,
      "outputs": [
        {
          "output_type": "stream",
          "text": [
            "/usr/local/lib/python3.7/dist-packages/ipykernel_launcher.py:9: SettingWithCopyWarning: \n",
            "A value is trying to be set on a copy of a slice from a DataFrame\n",
            "\n",
            "See the caveats in the documentation: https://pandas.pydata.org/pandas-docs/stable/user_guide/indexing.html#returning-a-view-versus-a-copy\n",
            "  if __name__ == '__main__':\n",
            "/usr/local/lib/python3.7/dist-packages/pandas/core/indexing.py:670: SettingWithCopyWarning: \n",
            "A value is trying to be set on a copy of a slice from a DataFrame\n",
            "\n",
            "See the caveats in the documentation: https://pandas.pydata.org/pandas-docs/stable/user_guide/indexing.html#returning-a-view-versus-a-copy\n",
            "  iloc._setitem_with_indexer(indexer, value)\n"
          ],
          "name": "stderr"
        }
      ]
    },
    {
      "cell_type": "code",
      "metadata": {
        "colab": {
          "base_uri": "https://localhost:8080/"
        },
        "id": "8ElYklXO0kAw",
        "outputId": "d264acde-042f-44a7-fdf2-59cfe8c17f97"
      },
      "source": [
        "df['pos_topic'] = np.arange(0,228)\n",
        "\n",
        "#Print out the topic-representing words in each year SOTU speech: \n",
        "for i in range(0, 228):\n",
        "    topcs = []\n",
        "    topic_words = pos_tfidf_df.iloc[i, :].sort_values().tail(5).reset_index()\n",
        "    for word in topic_words['index']:\n",
        "        topcs.append(word)\n",
        "    df['pos_topic'][i] = topcs"
      ],
      "execution_count": null,
      "outputs": [
        {
          "output_type": "stream",
          "text": [
            "/usr/local/lib/python3.7/dist-packages/ipykernel_launcher.py:9: SettingWithCopyWarning: \n",
            "A value is trying to be set on a copy of a slice from a DataFrame\n",
            "\n",
            "See the caveats in the documentation: https://pandas.pydata.org/pandas-docs/stable/user_guide/indexing.html#returning-a-view-versus-a-copy\n",
            "  if __name__ == '__main__':\n",
            "/usr/local/lib/python3.7/dist-packages/pandas/core/indexing.py:670: SettingWithCopyWarning: \n",
            "A value is trying to be set on a copy of a slice from a DataFrame\n",
            "\n",
            "See the caveats in the documentation: https://pandas.pydata.org/pandas-docs/stable/user_guide/indexing.html#returning-a-view-versus-a-copy\n",
            "  iloc._setitem_with_indexer(indexer, value)\n"
          ],
          "name": "stderr"
        }
      ]
    },
    {
      "cell_type": "code",
      "metadata": {
        "id": "jL7AqSIl0mYq"
      },
      "source": [
        "df.drop(['text'],axis=1).to_csv('SOTU topics.csv', index=False)"
      ],
      "execution_count": null,
      "outputs": []
    },
    {
      "cell_type": "code",
      "metadata": {
        "id": "AKfc9tYk0oKm"
      },
      "source": [
        "from pprint import pprint\n",
        "from gensim.models.ldamulticore import LdaMulticore"
      ],
      "execution_count": null,
      "outputs": []
    },
    {
      "cell_type": "code",
      "metadata": {
        "id": "IY7buZON0pwM"
      },
      "source": [
        "import re\n",
        "from gensim import models, corpora\n",
        "from nltk import word_tokenize, sent_tokenize\n",
        "from nltk.corpus import stopwords\n",
        "from nltk import pos_tag\n",
        "from nltk.stem import WordNetLemmatizer\n",
        "\n",
        "NUM_TOPICS = 5\n",
        "STOPWORDS = stopwords.words('english')\n",
        "\n",
        "wnl = WordNetLemmatizer()\n",
        "\n",
        "def penn2morphy(penntag):\n",
        "    \"\"\" Converts Penn Treebank tags to WordNet. \"\"\"\n",
        "    morphy_tag = {'NN':'n', 'JJ':'a',\n",
        "                  'VB':'v', 'RB':'r'}\n",
        "    try:\n",
        "        return morphy_tag[penntag[:2]]\n",
        "    except:\n",
        "        return 'n' \n",
        "\n",
        "def lemmatize_sent(text): \n",
        "    # Text input is string, returns lowercased strings.\n",
        "    return [wnl.lemmatize(word.lower(), pos=penn2morphy(tag)) \n",
        "            for word, tag in pos_tag(word_tokenize(text))]\n",
        "\n",
        "def clean_text(text):\n",
        "    tokenized_text = word_tokenize(text.lower())\n",
        "    cleaned_text = [t for t in tokenized_text if t not in STOPWORDS and re.match('[a-zA-Z\\-][a-zA-Z\\-]{2,}', t)]\n",
        "    return lemmatize_sent(' '.join(cleaned_text))"
      ],
      "execution_count": null,
      "outputs": []
    },
    {
      "cell_type": "code",
      "metadata": {
        "colab": {
          "base_uri": "https://localhost:8080/",
          "height": 292
        },
        "id": "GguogtYl0wY0",
        "outputId": "6c29f6ea-fe63-4dd4-85e7-df49e23f27cb"
      },
      "source": [
        "df['tokens'] = df.text.apply(clean_text)\n",
        "df.head()"
      ],
      "execution_count": null,
      "outputs": [
        {
          "output_type": "execute_result",
          "data": {
            "text/html": [
              "<div>\n",
              "<style scoped>\n",
              "    .dataframe tbody tr th:only-of-type {\n",
              "        vertical-align: middle;\n",
              "    }\n",
              "\n",
              "    .dataframe tbody tr th {\n",
              "        vertical-align: top;\n",
              "    }\n",
              "\n",
              "    .dataframe thead th {\n",
              "        text-align: right;\n",
              "    }\n",
              "</style>\n",
              "<table border=\"1\" class=\"dataframe\">\n",
              "  <thead>\n",
              "    <tr style=\"text-align: right;\">\n",
              "      <th></th>\n",
              "      <th>year</th>\n",
              "      <th>president</th>\n",
              "      <th>text</th>\n",
              "      <th>party</th>\n",
              "      <th>topic</th>\n",
              "      <th>pos_topic</th>\n",
              "      <th>tokens</th>\n",
              "    </tr>\n",
              "  </thead>\n",
              "  <tbody>\n",
              "    <tr>\n",
              "      <th>0</th>\n",
              "      <td>1854</td>\n",
              "      <td>Pierce</td>\n",
              "      <td>Fellow-Citizens of the Senate and of the House...</td>\n",
              "      <td>Democratic</td>\n",
              "      <td>[cyane, greytown, government, united, state]</td>\n",
              "      <td>[cyane, greytown, government, united, state]</td>\n",
              "      <td>[fellow-citizens, senate, house, representativ...</td>\n",
              "    </tr>\n",
              "    <tr>\n",
              "      <th>1</th>\n",
              "      <td>1982</td>\n",
              "      <td>Reagan</td>\n",
              "      <td>Mr. Speaker, Mr. President, distinguished Memb...</td>\n",
              "      <td>Republican</td>\n",
              "      <td>[billion, federal, tax, government, program]</td>\n",
              "      <td>[billion, federal, tax, government, program]</td>\n",
              "      <td>[speaker, president, distinguish, member, cong...</td>\n",
              "    </tr>\n",
              "    <tr>\n",
              "      <th>2</th>\n",
              "      <td>1823</td>\n",
              "      <td>Monroe</td>\n",
              "      <td>Fellow-Citizens of the Senate and House of Rep...</td>\n",
              "      <td>Democratic-Republican</td>\n",
              "      <td>[united, $, post, government, state]</td>\n",
              "      <td>[post, great, make, government, state]</td>\n",
              "      <td>[fellow-citizens, senate, house, representativ...</td>\n",
              "    </tr>\n",
              "    <tr>\n",
              "      <th>3</th>\n",
              "      <td>1840</td>\n",
              "      <td>Buren</td>\n",
              "      <td>Fellow-Citizens of the Senate and House of Rep...</td>\n",
              "      <td>Democratic</td>\n",
              "      <td>[may, state, upon, public, government]</td>\n",
              "      <td>[may, upon, state, public, government]</td>\n",
              "      <td>[fellow-citizens, senate, house, representativ...</td>\n",
              "    </tr>\n",
              "    <tr>\n",
              "      <th>4</th>\n",
              "      <td>1821</td>\n",
              "      <td>Monroe</td>\n",
              "      <td>Fellow-Citizens of the Senate and House of Rep...</td>\n",
              "      <td>Democratic-Republican</td>\n",
              "      <td>[power, article, united, state, vessel]</td>\n",
              "      <td>[power, article, united, state, vessel]</td>\n",
              "      <td>[fellow-citizens, senate, house, representativ...</td>\n",
              "    </tr>\n",
              "  </tbody>\n",
              "</table>\n",
              "</div>"
            ],
            "text/plain": [
              "   year  ...                                             tokens\n",
              "0  1854  ...  [fellow-citizens, senate, house, representativ...\n",
              "1  1982  ...  [speaker, president, distinguish, member, cong...\n",
              "2  1823  ...  [fellow-citizens, senate, house, representativ...\n",
              "3  1840  ...  [fellow-citizens, senate, house, representativ...\n",
              "4  1821  ...  [fellow-citizens, senate, house, representativ...\n",
              "\n",
              "[5 rows x 7 columns]"
            ]
          },
          "metadata": {
            "tags": []
          },
          "execution_count": 22
        }
      ]
    },
    {
      "cell_type": "code",
      "metadata": {
        "colab": {
          "base_uri": "https://localhost:8080/"
        },
        "id": "2SOU2feY0yOy",
        "outputId": "5046fd1b-fb52-4791-e6e6-68fec5862aff"
      },
      "source": [
        "# Build a Dictionary - association word to numeric id\n",
        "dictionary = corpora.Dictionary(df.tokens)\n",
        "#dictionary.filter_extremes(no_below=3, no_above=.03)\n",
        "\n",
        "# Transform the collection of texts to a numerical form\n",
        "corpus = [dictionary.doc2bow(text) for text in df.tokens]\n",
        "\n",
        "# Build the LDA model\n",
        "lda_model = models.LdaModel(corpus=corpus,  \n",
        "                            num_topics=20, \n",
        "                            id2word=dictionary)\n",
        "\n",
        "print(\"LDA Model:\")\n",
        " \n",
        "for idx in range(20):\n",
        "    # Print the first 10 most representative topics\n",
        "    print(\"Topic #%s:\" % idx, lda_model.print_topic(idx, 20))"
      ],
      "execution_count": null,
      "outputs": [
        {
          "output_type": "stream",
          "text": [
            "LDA Model:\n",
            "Topic #0: 0.010*\"government\" + 0.009*\"state\" + 0.007*\"year\" + 0.007*\"make\" + 0.007*\"congress\" + 0.006*\"great\" + 0.006*\"country\" + 0.005*\"united\" + 0.005*\"american\" + 0.004*\"time\" + 0.004*\"people\" + 0.004*\"would\" + 0.004*\"one\" + 0.004*\"upon\" + 0.004*\"work\" + 0.004*\"nation\" + 0.004*\"public\" + 0.004*\"may\" + 0.003*\"law\" + 0.003*\"war\"\n",
            "Topic #1: 0.011*\"government\" + 0.007*\"state\" + 0.006*\"people\" + 0.006*\"congress\" + 0.006*\"year\" + 0.006*\"great\" + 0.006*\"make\" + 0.005*\"time\" + 0.005*\"american\" + 0.005*\"nation\" + 0.005*\"country\" + 0.005*\"may\" + 0.004*\"must\" + 0.004*\"united\" + 0.004*\"upon\" + 0.004*\"would\" + 0.004*\"new\" + 0.004*\"interest\" + 0.004*\"law\" + 0.004*\"war\"\n",
            "Topic #2: 0.012*\"state\" + 0.008*\"government\" + 0.006*\"nation\" + 0.006*\"congress\" + 0.005*\"country\" + 0.005*\"make\" + 0.005*\"year\" + 0.005*\"may\" + 0.005*\"upon\" + 0.005*\"united\" + 0.005*\"public\" + 0.004*\"great\" + 0.004*\"would\" + 0.004*\"people\" + 0.004*\"present\" + 0.004*\"law\" + 0.004*\"act\" + 0.003*\"new\" + 0.003*\"one\" + 0.003*\"increase\"\n",
            "Topic #3: 0.009*\"make\" + 0.009*\"government\" + 0.008*\"state\" + 0.008*\"year\" + 0.007*\"people\" + 0.006*\"congress\" + 0.006*\"united\" + 0.004*\"country\" + 0.004*\"nation\" + 0.004*\"great\" + 0.004*\"must\" + 0.004*\"upon\" + 0.004*\"american\" + 0.004*\"may\" + 0.004*\"would\" + 0.004*\"war\" + 0.003*\"one\" + 0.003*\"work\" + 0.003*\"increase\" + 0.003*\"shall\"\n",
            "Topic #4: 0.011*\"year\" + 0.009*\"make\" + 0.009*\"state\" + 0.006*\"congress\" + 0.005*\"must\" + 0.005*\"government\" + 0.005*\"american\" + 0.005*\"people\" + 0.005*\"upon\" + 0.005*\"great\" + 0.005*\"nation\" + 0.004*\"united\" + 0.004*\"country\" + 0.004*\"work\" + 0.004*\"law\" + 0.004*\"would\" + 0.004*\"war\" + 0.003*\"may\" + 0.003*\"national\" + 0.003*\"time\"\n",
            "Topic #5: 0.007*\"year\" + 0.007*\"government\" + 0.007*\"state\" + 0.006*\"congress\" + 0.005*\"great\" + 0.005*\"make\" + 0.005*\"people\" + 0.004*\"new\" + 0.004*\"would\" + 0.004*\"every\" + 0.004*\"american\" + 0.004*\"country\" + 0.004*\"must\" + 0.004*\"nation\" + 0.004*\"work\" + 0.004*\"last\" + 0.003*\"public\" + 0.003*\"time\" + 0.003*\"law\" + 0.003*\"upon\"\n",
            "Topic #6: 0.013*\"state\" + 0.010*\"government\" + 0.007*\"make\" + 0.006*\"congress\" + 0.006*\"year\" + 0.005*\"great\" + 0.005*\"united\" + 0.005*\"upon\" + 0.005*\"would\" + 0.005*\"nation\" + 0.004*\"people\" + 0.004*\"war\" + 0.004*\"may\" + 0.004*\"must\" + 0.004*\"public\" + 0.004*\"country\" + 0.004*\"time\" + 0.003*\"subject\" + 0.003*\"interest\" + 0.003*\"world\"\n",
            "Topic #7: 0.010*\"government\" + 0.009*\"state\" + 0.008*\"year\" + 0.006*\"congress\" + 0.006*\"make\" + 0.006*\"would\" + 0.005*\"country\" + 0.005*\"united\" + 0.004*\"great\" + 0.004*\"public\" + 0.004*\"people\" + 0.004*\"must\" + 0.004*\"new\" + 0.004*\"nation\" + 0.004*\"may\" + 0.004*\"duty\" + 0.004*\"law\" + 0.003*\"upon\" + 0.003*\"time\" + 0.003*\"war\"\n",
            "Topic #8: 0.011*\"government\" + 0.010*\"state\" + 0.009*\"year\" + 0.006*\"congress\" + 0.006*\"country\" + 0.006*\"american\" + 0.006*\"people\" + 0.005*\"make\" + 0.005*\"time\" + 0.004*\"world\" + 0.004*\"upon\" + 0.004*\"law\" + 0.004*\"great\" + 0.004*\"new\" + 0.004*\"may\" + 0.004*\"power\" + 0.004*\"must\" + 0.004*\"nation\" + 0.004*\"give\" + 0.004*\"work\"\n",
            "Topic #9: 0.009*\"state\" + 0.007*\"government\" + 0.006*\"year\" + 0.006*\"people\" + 0.006*\"nation\" + 0.005*\"congress\" + 0.005*\"make\" + 0.005*\"upon\" + 0.005*\"united\" + 0.005*\"country\" + 0.004*\"would\" + 0.004*\"must\" + 0.004*\"great\" + 0.004*\"world\" + 0.004*\"work\" + 0.004*\"american\" + 0.004*\"public\" + 0.003*\"may\" + 0.003*\"law\" + 0.003*\"interest\"\n",
            "Topic #10: 0.012*\"state\" + 0.008*\"make\" + 0.007*\"government\" + 0.007*\"united\" + 0.006*\"congress\" + 0.006*\"year\" + 0.005*\"upon\" + 0.005*\"country\" + 0.004*\"power\" + 0.004*\"time\" + 0.004*\"nation\" + 0.004*\"people\" + 0.004*\"law\" + 0.004*\"great\" + 0.004*\"may\" + 0.004*\"public\" + 0.003*\"last\" + 0.003*\"would\" + 0.003*\"must\" + 0.003*\"war\"\n",
            "Topic #11: 0.010*\"government\" + 0.008*\"year\" + 0.008*\"state\" + 0.006*\"make\" + 0.006*\"congress\" + 0.005*\"united\" + 0.005*\"country\" + 0.005*\"people\" + 0.005*\"must\" + 0.005*\"would\" + 0.004*\"upon\" + 0.004*\"great\" + 0.004*\"war\" + 0.003*\"power\" + 0.003*\"act\" + 0.003*\"present\" + 0.003*\"new\" + 0.003*\"interest\" + 0.003*\"nation\" + 0.003*\"one\"\n",
            "Topic #12: 0.010*\"government\" + 0.009*\"state\" + 0.006*\"upon\" + 0.006*\"year\" + 0.006*\"make\" + 0.005*\"country\" + 0.005*\"nation\" + 0.005*\"united\" + 0.005*\"great\" + 0.004*\"new\" + 0.004*\"congress\" + 0.004*\"war\" + 0.004*\"people\" + 0.004*\"would\" + 0.004*\"public\" + 0.004*\"power\" + 0.004*\"last\" + 0.004*\"time\" + 0.003*\"may\" + 0.003*\"law\"\n",
            "Topic #13: 0.012*\"state\" + 0.008*\"government\" + 0.008*\"make\" + 0.006*\"united\" + 0.006*\"great\" + 0.005*\"upon\" + 0.005*\"country\" + 0.005*\"may\" + 0.005*\"congress\" + 0.005*\"nation\" + 0.005*\"would\" + 0.005*\"law\" + 0.005*\"public\" + 0.004*\"people\" + 0.004*\"year\" + 0.004*\"time\" + 0.004*\"interest\" + 0.004*\"power\" + 0.004*\"american\" + 0.003*\"present\"\n",
            "Topic #14: 0.010*\"state\" + 0.008*\"government\" + 0.006*\"congress\" + 0.006*\"year\" + 0.006*\"people\" + 0.005*\"great\" + 0.005*\"country\" + 0.005*\"nation\" + 0.005*\"united\" + 0.004*\"upon\" + 0.004*\"may\" + 0.004*\"would\" + 0.004*\"make\" + 0.004*\"time\" + 0.003*\"increase\" + 0.003*\"power\" + 0.003*\"must\" + 0.003*\"last\" + 0.003*\"law\" + 0.003*\"war\"\n",
            "Topic #15: 0.008*\"make\" + 0.007*\"government\" + 0.007*\"state\" + 0.007*\"congress\" + 0.006*\"year\" + 0.006*\"upon\" + 0.005*\"united\" + 0.005*\"law\" + 0.005*\"present\" + 0.005*\"public\" + 0.004*\"country\" + 0.004*\"great\" + 0.004*\"people\" + 0.004*\"may\" + 0.004*\"time\" + 0.004*\"would\" + 0.003*\"interest\" + 0.003*\"condition\" + 0.003*\"power\" + 0.003*\"subject\"\n",
            "Topic #16: 0.012*\"state\" + 0.009*\"government\" + 0.009*\"year\" + 0.007*\"country\" + 0.006*\"make\" + 0.006*\"upon\" + 0.005*\"law\" + 0.005*\"great\" + 0.005*\"congress\" + 0.005*\"would\" + 0.004*\"united\" + 0.004*\"people\" + 0.004*\"time\" + 0.004*\"may\" + 0.004*\"last\" + 0.004*\"american\" + 0.004*\"increase\" + 0.004*\"nation\" + 0.003*\"war\" + 0.003*\"new\"\n",
            "Topic #17: 0.009*\"government\" + 0.008*\"make\" + 0.008*\"state\" + 0.007*\"year\" + 0.006*\"congress\" + 0.005*\"country\" + 0.005*\"people\" + 0.004*\"may\" + 0.004*\"great\" + 0.004*\"american\" + 0.004*\"united\" + 0.004*\"last\" + 0.004*\"must\" + 0.004*\"law\" + 0.004*\"would\" + 0.004*\"nation\" + 0.004*\"one\" + 0.004*\"time\" + 0.003*\"public\" + 0.003*\"new\"\n",
            "Topic #18: 0.014*\"state\" + 0.010*\"government\" + 0.006*\"make\" + 0.006*\"nation\" + 0.005*\"congress\" + 0.005*\"country\" + 0.005*\"year\" + 0.005*\"would\" + 0.005*\"people\" + 0.004*\"great\" + 0.004*\"must\" + 0.004*\"united\" + 0.004*\"power\" + 0.004*\"law\" + 0.004*\"american\" + 0.004*\"act\" + 0.004*\"public\" + 0.003*\"new\" + 0.003*\"time\" + 0.003*\"national\"\n",
            "Topic #19: 0.010*\"state\" + 0.009*\"year\" + 0.008*\"government\" + 0.007*\"make\" + 0.006*\"country\" + 0.006*\"would\" + 0.005*\"people\" + 0.005*\"nation\" + 0.005*\"congress\" + 0.005*\"united\" + 0.005*\"law\" + 0.005*\"great\" + 0.004*\"time\" + 0.004*\"upon\" + 0.004*\"american\" + 0.004*\"new\" + 0.004*\"must\" + 0.003*\"public\" + 0.003*\"work\" + 0.003*\"america\"\n"
          ],
          "name": "stdout"
        }
      ]
    },
    {
      "cell_type": "code",
      "metadata": {
        "colab": {
          "base_uri": "https://localhost:8080/"
        },
        "id": "YGjkS9cC00E4",
        "outputId": "3f3e0ea6-6404-4182-e4ba-c48ba4bea5ca"
      },
      "source": [
        "df['lda_topic'] = df['tokens']\n",
        "#def get_most_popular_topic(index)\n",
        "for j in np.arange(0, 228):\n",
        "    df['lda_topic'][j] = [i[0] for i in lda_model.get_document_topics(dictionary.doc2bow(df.tokens[j]), minimum_probability=0.2)]"
      ],
      "execution_count": null,
      "outputs": [
        {
          "output_type": "stream",
          "text": [
            "/usr/local/lib/python3.7/dist-packages/ipykernel_launcher.py:4: SettingWithCopyWarning: \n",
            "A value is trying to be set on a copy of a slice from a DataFrame\n",
            "\n",
            "See the caveats in the documentation: https://pandas.pydata.org/pandas-docs/stable/user_guide/indexing.html#returning-a-view-versus-a-copy\n",
            "  after removing the cwd from sys.path.\n"
          ],
          "name": "stderr"
        }
      ]
    },
    {
      "cell_type": "code",
      "metadata": {
        "colab": {
          "base_uri": "https://localhost:8080/",
          "height": 1000
        },
        "id": "NulzW5Jw013Q",
        "outputId": "3f598366-78c4-44df-deda-da7af0100375"
      },
      "source": [
        "df.head(20)"
      ],
      "execution_count": null,
      "outputs": [
        {
          "output_type": "execute_result",
          "data": {
            "text/html": [
              "<div>\n",
              "<style scoped>\n",
              "    .dataframe tbody tr th:only-of-type {\n",
              "        vertical-align: middle;\n",
              "    }\n",
              "\n",
              "    .dataframe tbody tr th {\n",
              "        vertical-align: top;\n",
              "    }\n",
              "\n",
              "    .dataframe thead th {\n",
              "        text-align: right;\n",
              "    }\n",
              "</style>\n",
              "<table border=\"1\" class=\"dataframe\">\n",
              "  <thead>\n",
              "    <tr style=\"text-align: right;\">\n",
              "      <th></th>\n",
              "      <th>year</th>\n",
              "      <th>president</th>\n",
              "      <th>text</th>\n",
              "      <th>party</th>\n",
              "      <th>topic</th>\n",
              "      <th>pos_topic</th>\n",
              "      <th>tokens</th>\n",
              "      <th>lda_topic</th>\n",
              "    </tr>\n",
              "  </thead>\n",
              "  <tbody>\n",
              "    <tr>\n",
              "      <th>0</th>\n",
              "      <td>1854</td>\n",
              "      <td>Pierce</td>\n",
              "      <td>Fellow-Citizens of the Senate and of the House...</td>\n",
              "      <td>Democratic</td>\n",
              "      <td>[cyane, greytown, government, united, state]</td>\n",
              "      <td>[cyane, greytown, government, united, state]</td>\n",
              "      <td>[fellow-citizens, senate, house, representativ...</td>\n",
              "      <td>[15, 16]</td>\n",
              "    </tr>\n",
              "    <tr>\n",
              "      <th>1</th>\n",
              "      <td>1982</td>\n",
              "      <td>Reagan</td>\n",
              "      <td>Mr. Speaker, Mr. President, distinguished Memb...</td>\n",
              "      <td>Republican</td>\n",
              "      <td>[billion, federal, tax, government, program]</td>\n",
              "      <td>[billion, federal, tax, government, program]</td>\n",
              "      <td>[speaker, president, distinguish, member, cong...</td>\n",
              "      <td>[4, 8]</td>\n",
              "    </tr>\n",
              "    <tr>\n",
              "      <th>2</th>\n",
              "      <td>1823</td>\n",
              "      <td>Monroe</td>\n",
              "      <td>Fellow-Citizens of the Senate and House of Rep...</td>\n",
              "      <td>Democratic-Republican</td>\n",
              "      <td>[united, $, post, government, state]</td>\n",
              "      <td>[post, great, make, government, state]</td>\n",
              "      <td>[fellow-citizens, senate, house, representativ...</td>\n",
              "      <td>[13]</td>\n",
              "    </tr>\n",
              "    <tr>\n",
              "      <th>3</th>\n",
              "      <td>1840</td>\n",
              "      <td>Buren</td>\n",
              "      <td>Fellow-Citizens of the Senate and House of Rep...</td>\n",
              "      <td>Democratic</td>\n",
              "      <td>[may, state, upon, public, government]</td>\n",
              "      <td>[may, upon, state, public, government]</td>\n",
              "      <td>[fellow-citizens, senate, house, representativ...</td>\n",
              "      <td>[13]</td>\n",
              "    </tr>\n",
              "    <tr>\n",
              "      <th>4</th>\n",
              "      <td>1821</td>\n",
              "      <td>Monroe</td>\n",
              "      <td>Fellow-Citizens of the Senate and House of Rep...</td>\n",
              "      <td>Democratic-Republican</td>\n",
              "      <td>[power, article, united, state, vessel]</td>\n",
              "      <td>[power, article, united, state, vessel]</td>\n",
              "      <td>[fellow-citizens, senate, house, representativ...</td>\n",
              "      <td>[13, 15]</td>\n",
              "    </tr>\n",
              "    <tr>\n",
              "      <th>5</th>\n",
              "      <td>1810</td>\n",
              "      <td>Madison</td>\n",
              "      <td>Fellow-Citizens of the Senate and House of Rep...</td>\n",
              "      <td>Democratic-Republican</td>\n",
              "      <td>[government, danish, seminary, state, blockade]</td>\n",
              "      <td>[united, danish, seminary, state, blockade]</td>\n",
              "      <td>[fellow-citizens, senate, house, representativ...</td>\n",
              "      <td>[6, 13]</td>\n",
              "    </tr>\n",
              "    <tr>\n",
              "      <th>6</th>\n",
              "      <td>2008</td>\n",
              "      <td>George W. Bush</td>\n",
              "      <td>Madam Speaker, Vice President Cheney, Members ...</td>\n",
              "      <td>Republican</td>\n",
              "      <td>[al, empower, terrorist, iraqi, iraq]</td>\n",
              "      <td>[qaeda, al, terrorist, iraqi, iraq]</td>\n",
              "      <td>[madam, speaker, vice, president, cheney, memb...</td>\n",
              "      <td>[8, 19]</td>\n",
              "    </tr>\n",
              "    <tr>\n",
              "      <th>7</th>\n",
              "      <td>1832</td>\n",
              "      <td>Jackson</td>\n",
              "      <td>Fellow Citizens of the Senate and of the House...</td>\n",
              "      <td>Democratic</td>\n",
              "      <td>[general, public, may, government, state]</td>\n",
              "      <td>[make, public, may, government, state]</td>\n",
              "      <td>[fellow, citizen, senate, house, representativ...</td>\n",
              "      <td>[13]</td>\n",
              "    </tr>\n",
              "    <tr>\n",
              "      <th>8</th>\n",
              "      <td>1808</td>\n",
              "      <td>Jefferson</td>\n",
              "      <td>The Senate and House of Representatives of the...</td>\n",
              "      <td>Democratic-Republican</td>\n",
              "      <td>[belligerent, state, suspension, decree, embargo]</td>\n",
              "      <td>[belligerent, state, suspension, decree, embargo]</td>\n",
              "      <td>[senate, house, representative, united, state,...</td>\n",
              "      <td>[2]</td>\n",
              "    </tr>\n",
              "    <tr>\n",
              "      <th>9</th>\n",
              "      <td>1962</td>\n",
              "      <td>Kennedy</td>\n",
              "      <td>Mr. Vice President, my old colleague from Mass...</td>\n",
              "      <td>Democratic</td>\n",
              "      <td>[job, farm, program, nation, new]</td>\n",
              "      <td>[farm, help, program, nation, new]</td>\n",
              "      <td>[vice, president, old, colleague, massachusett...</td>\n",
              "      <td>[8, 19]</td>\n",
              "    </tr>\n",
              "    <tr>\n",
              "      <th>10</th>\n",
              "      <td>1963</td>\n",
              "      <td>Kennedy</td>\n",
              "      <td>Mr. Vice President, Mr. Speaker, Members of th...</td>\n",
              "      <td>Democratic</td>\n",
              "      <td>[nuclear, nation, year, alliance, communist]</td>\n",
              "      <td>[nuclear, nation, year, alliance, communist]</td>\n",
              "      <td>[vice, president, speaker, member, congress, c...</td>\n",
              "      <td>[4, 19]</td>\n",
              "    </tr>\n",
              "    <tr>\n",
              "      <th>11</th>\n",
              "      <td>1994</td>\n",
              "      <td>Clinton</td>\n",
              "      <td>Mr. Speaker, Mr. President, members of the 103...</td>\n",
              "      <td>Democratic</td>\n",
              "      <td>[year, care, health, job, people]</td>\n",
              "      <td>[care, work, health, job, people]</td>\n",
              "      <td>[speaker, president, member, congress, fellow,...</td>\n",
              "      <td>[8]</td>\n",
              "    </tr>\n",
              "    <tr>\n",
              "      <th>12</th>\n",
              "      <td>2017</td>\n",
              "      <td>Trump</td>\n",
              "      <td>Thank you very much. Mr. Speaker, Mr. Vice Pre...</td>\n",
              "      <td>Republican</td>\n",
              "      <td>[job, jamiel, ryan, tonight, megan]</td>\n",
              "      <td>[job, jamiel, ryan, tonight, megan]</td>\n",
              "      <td>[thank, much, speaker, vice, president, member...</td>\n",
              "      <td>[8, 19]</td>\n",
              "    </tr>\n",
              "    <tr>\n",
              "      <th>13</th>\n",
              "      <td>1862</td>\n",
              "      <td>Lincoln</td>\n",
              "      <td>Fellow-Citizens of the Senate and House of Rep...</td>\n",
              "      <td>Republican</td>\n",
              "      <td>[slavery, slave, ?, emancipation, state]</td>\n",
              "      <td>[slavery, slave, ?, emancipation, state]</td>\n",
              "      <td>[fellow-citizens, senate, house, representativ...</td>\n",
              "      <td>[18, 19]</td>\n",
              "    </tr>\n",
              "    <tr>\n",
              "      <th>14</th>\n",
              "      <td>1850</td>\n",
              "      <td>Fillmore</td>\n",
              "      <td>Fellow-Citizens of the Senate and of the House...</td>\n",
              "      <td>Whig</td>\n",
              "      <td>[upon, state, may, duty, government]</td>\n",
              "      <td>[upon, may, state, duty, government]</td>\n",
              "      <td>[fellow-citizens, senate, house, representativ...</td>\n",
              "      <td>[13, 15]</td>\n",
              "    </tr>\n",
              "    <tr>\n",
              "      <th>15</th>\n",
              "      <td>1906</td>\n",
              "      <td>Theodore Roosevelt</td>\n",
              "      <td>To the Senate and House of Representatives:  A...</td>\n",
              "      <td>Republican</td>\n",
              "      <td>[men, upon, state, law, government]</td>\n",
              "      <td>[upon, seal, state, law, government]</td>\n",
              "      <td>[senate, house, representative, nation, still,...</td>\n",
              "      <td>[8, 16, 18]</td>\n",
              "    </tr>\n",
              "    <tr>\n",
              "      <th>16</th>\n",
              "      <td>2014</td>\n",
              "      <td>Obama</td>\n",
              "      <td>Mr. Speaker, Mr. Vice President, Members of Co...</td>\n",
              "      <td>Democratic</td>\n",
              "      <td>[kid, cory, american, help, job]</td>\n",
              "      <td>[cory, american, work, help, job]</td>\n",
              "      <td>[speaker, vice, president, member, congress, f...</td>\n",
              "      <td>[8]</td>\n",
              "    </tr>\n",
              "    <tr>\n",
              "      <th>17</th>\n",
              "      <td>2015</td>\n",
              "      <td>Obama</td>\n",
              "      <td>Mr. Speaker, Mr. Vice President, Members of Co...</td>\n",
              "      <td>Democratic</td>\n",
              "      <td>[year, new, rebekah, childcare, job]</td>\n",
              "      <td>[new, make, rebekah, childcare, job]</td>\n",
              "      <td>[speaker, vice, president, member, congress, f...</td>\n",
              "      <td>[5, 8]</td>\n",
              "    </tr>\n",
              "    <tr>\n",
              "      <th>18</th>\n",
              "      <td>1860</td>\n",
              "      <td>Buchanan</td>\n",
              "      <td>Fellow-Citizens of the Senate and House of Rep...</td>\n",
              "      <td>Democratic</td>\n",
              "      <td>[duty, congress, government, constitution, state]</td>\n",
              "      <td>[duty, congress, government, constitution, state]</td>\n",
              "      <td>[fellow-citizens, senate, house, representativ...</td>\n",
              "      <td>[10, 13]</td>\n",
              "    </tr>\n",
              "    <tr>\n",
              "      <th>19</th>\n",
              "      <td>1995</td>\n",
              "      <td>Clinton</td>\n",
              "      <td>Mr. President, Mr. Speaker, members of the 104...</td>\n",
              "      <td>Democratic</td>\n",
              "      <td>[work, covenant, year, cut, people]</td>\n",
              "      <td>[get, year, cut, people, work]</td>\n",
              "      <td>[president, speaker, member, congress, fellow,...</td>\n",
              "      <td>[8]</td>\n",
              "    </tr>\n",
              "  </tbody>\n",
              "</table>\n",
              "</div>"
            ],
            "text/plain": [
              "    year  ...    lda_topic\n",
              "0   1854  ...     [15, 16]\n",
              "1   1982  ...       [4, 8]\n",
              "2   1823  ...         [13]\n",
              "3   1840  ...         [13]\n",
              "4   1821  ...     [13, 15]\n",
              "5   1810  ...      [6, 13]\n",
              "6   2008  ...      [8, 19]\n",
              "7   1832  ...         [13]\n",
              "8   1808  ...          [2]\n",
              "9   1962  ...      [8, 19]\n",
              "10  1963  ...      [4, 19]\n",
              "11  1994  ...          [8]\n",
              "12  2017  ...      [8, 19]\n",
              "13  1862  ...     [18, 19]\n",
              "14  1850  ...     [13, 15]\n",
              "15  1906  ...  [8, 16, 18]\n",
              "16  2014  ...          [8]\n",
              "17  2015  ...       [5, 8]\n",
              "18  1860  ...     [10, 13]\n",
              "19  1995  ...          [8]\n",
              "\n",
              "[20 rows x 8 columns]"
            ]
          },
          "metadata": {
            "tags": []
          },
          "execution_count": 25
        }
      ]
    },
    {
      "cell_type": "code",
      "metadata": {
        "id": "FlF_DJiL03Y4"
      },
      "source": [
        "import re\n",
        "from collections import defaultdict\n",
        "\n",
        "def sotu_topic_finder(year, num_topics, num_words):\n",
        "    \"\"\"\n",
        "    Find SOTU topics using LDA. The LDA model is only trained on the text of that year topic\n",
        "    Input: index i of the speech\n",
        "    Output: list 5 topics found by the model\n",
        "    \"\"\"\n",
        "    # Clean the text\n",
        "    sent_text = sent_tokenize(df.text[year - 1979])\n",
        "    token_list = []\n",
        "    for sent in sent_text:\n",
        "        cleaned_sent = clean_text(sent)\n",
        "        token_list.append(cleaned_sent)\n",
        "\n",
        "    # Prepare the dictionary and corpus\n",
        "    dictionary = corpora.Dictionary(token_list)\n",
        "    corpus = [dictionary.doc2bow(text) for text in token_list]\n",
        "\n",
        "    # Build the LDA model\n",
        "    lda_model = models.LdaModel(corpus=corpus,  \n",
        "                                num_topics=num_topics, \n",
        "                                id2word=dictionary)\n",
        "\n",
        "    #Output model\n",
        "    data = {}\n",
        "    for idx in range(5):\n",
        "        # Print the first 10 most representative topics\n",
        "        res = lda_model.show_topic(idx, num_words)\n",
        "        topic = idx\n",
        "        data[idx] = ([{\"keyword\": keyword, \"p\": str(p)} for keyword, p in res])\n",
        "\n",
        "    return data"
      ],
      "execution_count": 93,
      "outputs": []
    },
    {
      "cell_type": "code",
      "metadata": {
        "colab": {
          "base_uri": "https://localhost:8080/"
        },
        "id": "FIewPCvS1Bre",
        "outputId": "6ea06c5a-609c-4e69-f875-7c981abedd65"
      },
      "source": [
        "res = {}\n",
        "for year in range(1989, 2017):\n",
        "    res[year] = sotu_topic_finder(year, 5, 5)\n",
        "\n",
        "print(res)"
      ],
      "execution_count": 94,
      "outputs": [
        {
          "output_type": "stream",
          "text": [
            "{1989: {0: [{'keyword': 'year', 'p': '0.013158713'}, {'keyword': 'need', 'p': '0.010056836'}, {'keyword': 'new', 'p': '0.008481822'}, {'keyword': 'would', 'p': '0.006840083'}, {'keyword': 'war', 'p': '0.0061211023'}], 1: [{'keyword': 'alliance', 'p': '0.0083495015'}, {'keyword': 'tax', 'p': '0.00783541'}, {'keyword': 'help', 'p': '0.0065037985'}, {'keyword': 'nation', 'p': '0.0064482214'}, {'keyword': 'year', 'p': '0.0063752374'}], 2: [{'keyword': 'world', 'p': '0.012152851'}, {'keyword': 'nation', 'p': '0.011333406'}, {'keyword': 'defense', 'p': '0.00853749'}, {'keyword': 'economic', 'p': '0.006061211'}, {'keyword': 'free', 'p': '0.0059828907'}], 3: [{'keyword': 'year', 'p': '0.013210074'}, {'keyword': 'tax', 'p': '0.009830507'}, {'keyword': 'percent', 'p': '0.00979413'}, {'keyword': 'billion', 'p': '0.009168062'}, {'keyword': 'increase', 'p': '0.006769138'}], 4: [{'keyword': 'nation', 'p': '0.01495379'}, {'keyword': 'free', 'p': '0.0143929785'}, {'keyword': 'need', 'p': '0.006847537'}, {'keyword': 'good', 'p': '0.005904741'}, {'keyword': 'state', 'p': '0.0056079137'}]}, 1990: {0: [{'keyword': 'people', 'p': '0.01597718'}, {'keyword': 'congress', 'p': '0.009475184'}, {'keyword': 'crime', 'p': '0.00929087'}, {'keyword': 'work', 'p': '0.0072914464'}, {'keyword': 'way', 'p': '0.0072058686'}], 1: [{'keyword': 'people', 'p': '0.021083238'}, {'keyword': 'child', 'p': '0.017864749'}, {'keyword': 'year', 'p': '0.016120888'}, {'keyword': 'must', 'p': '0.016086001'}, {'keyword': 'work', 'p': '0.011811062'}], 2: [{'keyword': 'health', 'p': '0.018764336'}, {'keyword': 'care', 'p': '0.016766574'}, {'keyword': 'american', 'p': '0.014299786'}, {'keyword': 'get', 'p': '0.011919457'}, {'keyword': 'people', 'p': '0.011319023'}], 3: [{'keyword': 'take', 'p': '0.014337305'}, {'keyword': 'know', 'p': '0.013220887'}, {'keyword': 'people', 'p': '0.011430951'}, {'keyword': 'work', 'p': '0.009719383'}, {'keyword': 'health', 'p': '0.009666256'}], 4: [{'keyword': 'year', 'p': '0.018711517'}, {'keyword': 'work', 'p': '0.013072651'}, {'keyword': 'people', 'p': '0.009507044'}, {'keyword': 'american', 'p': '0.007653923'}, {'keyword': 'reform', 'p': '0.00687555'}]}, 1991: {0: [{'keyword': 'american', 'p': '0.015271252'}, {'keyword': 'world', 'p': '0.012008552'}, {'keyword': 'must', 'p': '0.011622056'}, {'keyword': 'america', 'p': '0.010829589'}, {'keyword': 'great', 'p': '0.009567279'}], 1: [{'keyword': 'work', 'p': '0.013983298'}, {'keyword': 'great', 'p': '0.0092766015'}, {'keyword': 'tonight', 'p': '0.008150864'}, {'keyword': 'must', 'p': '0.0074322377'}, {'keyword': 'american', 'p': '0.0073359846'}], 2: [{'keyword': 'american', 'p': '0.014748368'}, {'keyword': 'new', 'p': '0.01220391'}, {'keyword': 'america', 'p': '0.011128912'}, {'keyword': 'state', 'p': '0.010317225'}, {'keyword': 'nation', 'p': '0.009528097'}], 3: [{'keyword': 'american', 'p': '0.007940607'}, {'keyword': 'world', 'p': '0.007686773'}, {'keyword': 'trillion', 'p': '0.007208394'}, {'keyword': 'time', 'p': '0.007103669'}, {'keyword': 'nation', 'p': '0.006805149'}], 4: [{'keyword': 'american', 'p': '0.014692697'}, {'keyword': 'country', 'p': '0.013944318'}, {'keyword': 'time', 'p': '0.010518207'}, {'keyword': 'tax', 'p': '0.007890565'}, {'keyword': 'company', 'p': '0.0072924877'}]}, 1992: {0: [{'keyword': 'would', 'p': '0.012599873'}, {'keyword': 'pay', 'p': '0.011295678'}, {'keyword': 'state', 'p': '0.011057086'}, {'keyword': 'great', 'p': '0.010814245'}, {'keyword': 'war', 'p': '0.007495844'}], 1: [{'keyword': 'would', 'p': '0.015357797'}, {'keyword': 'state', 'p': '0.011369186'}, {'keyword': 'people', 'p': '0.011319417'}, {'keyword': 'upon', 'p': '0.007648382'}, {'keyword': 'well', 'p': '0.007189484'}], 2: [{'keyword': 'state', 'p': '0.01929445'}, {'keyword': 'would', 'p': '0.010145062'}, {'keyword': 'shall', 'p': '0.00958161'}, {'keyword': 'part', 'p': '0.009283372'}, {'keyword': 'year', 'p': '0.0075215325'}], 3: [{'keyword': 'state', 'p': '0.018141272'}, {'keyword': 'may', 'p': '0.010752967'}, {'keyword': 'year', 'p': '0.008842086'}, {'keyword': 'last', 'p': '0.007930846'}, {'keyword': 'country', 'p': '0.0071819853'}], 4: [{'keyword': 'would', 'p': '0.012284658'}, {'keyword': 'one', 'p': '0.009743429'}, {'keyword': 'time', 'p': '0.009032537'}, {'keyword': 'white', 'p': '0.0076573323'}, {'keyword': 'people', 'p': '0.0073682885'}]}, 1993: {0: [{'keyword': 'state', 'p': '0.01264053'}, {'keyword': 'present', 'p': '0.006717848'}, {'keyword': 'duty', 'p': '0.006495675'}, {'keyword': 'interest', 'p': '0.006017117'}, {'keyword': 'public', 'p': '0.0058448245'}], 1: [{'keyword': 'government', 'p': '0.0117462715'}, {'keyword': 'state', 'p': '0.009372199'}, {'keyword': 'article', 'p': '0.00930901'}, {'keyword': 'upon', 'p': '0.00878142'}, {'keyword': 'shall', 'p': '0.008417168'}], 2: [{'keyword': 'government', 'p': '0.023140516'}, {'keyword': 'may', 'p': '0.0118112285'}, {'keyword': 'duty', 'p': '0.011340474'}, {'keyword': 'state', 'p': '0.009195885'}, {'keyword': 'make', 'p': '0.0077138096'}], 3: [{'keyword': 'may', 'p': '0.014370753'}, {'keyword': 'congress', 'p': '0.0067819296'}, {'keyword': 'state', 'p': '0.006682939'}, {'keyword': 'believe', 'p': '0.006673135'}, {'keyword': 'duty', 'p': '0.0065387916'}], 4: [{'keyword': 'power', 'p': '0.010410242'}, {'keyword': 'country', 'p': '0.009940848'}, {'keyword': 'duty', 'p': '0.009144881'}, {'keyword': 'congress', 'p': '0.007361434'}, {'keyword': 'part', 'p': '0.006505242'}]}, 1994: {0: [{'keyword': 'state', 'p': '0.0090778805'}, {'keyword': 'government', 'p': '0.007660807'}, {'keyword': 'nation', 'p': '0.007478347'}, {'keyword': 'american', 'p': '0.0068544797'}, {'keyword': 'law', 'p': '0.0063244817'}], 1: [{'keyword': 'law', 'p': '0.009071316'}, {'keyword': 'would', 'p': '0.006924128'}, {'keyword': 'upon', 'p': '0.0057807537'}, {'keyword': 'nation', 'p': '0.0053601223'}, {'keyword': 'country', 'p': '0.005048319'}], 2: [{'keyword': 'men', 'p': '0.0074242097'}, {'keyword': 'must', 'p': '0.0068768347'}, {'keyword': 'country', 'p': '0.006566404'}, {'keyword': 'make', 'p': '0.0064662565'}, {'keyword': 'people', 'p': '0.0062728235'}], 3: [{'keyword': 'law', 'p': '0.007581936'}, {'keyword': 'state', 'p': '0.007322915'}, {'keyword': 'power', 'p': '0.0073202616'}, {'keyword': 'would', 'p': '0.006706664'}, {'keyword': 'people', 'p': '0.00564095'}], 4: [{'keyword': 'government', 'p': '0.011307969'}, {'keyword': 'upon', 'p': '0.008695318'}, {'keyword': 'american', 'p': '0.0059057907'}, {'keyword': 'people', 'p': '0.0056777745'}, {'keyword': 'must', 'p': '0.0056163254'}]}, 1995: {0: [{'keyword': 'job', 'p': '0.011587458'}, {'keyword': 'today', 'p': '0.010395759'}, {'keyword': 'work', 'p': '0.0102732405'}, {'keyword': 'year', 'p': '0.008887765'}, {'keyword': 'state', 'p': '0.008548147'}], 1: [{'keyword': 'america', 'p': '0.015792226'}, {'keyword': 'american', 'p': '0.0135617945'}, {'keyword': 'work', 'p': '0.010244755'}, {'keyword': 'every', 'p': '0.008169399'}, {'keyword': 'new', 'p': '0.008100319'}], 2: [{'keyword': 'help', 'p': '0.017307257'}, {'keyword': 'american', 'p': '0.012512187'}, {'keyword': 'work', 'p': '0.009454416'}, {'keyword': 'new', 'p': '0.008736897'}, {'keyword': 'business', 'p': '0.008032402'}], 3: [{'keyword': 'year', 'p': '0.012749786'}, {'keyword': 'work', 'p': '0.0065368586'}, {'keyword': 'take', 'p': '0.006481337'}, {'keyword': 'help', 'p': '0.0060945926'}, {'keyword': 'community', 'p': '0.0057744416'}], 4: [{'keyword': 'make', 'p': '0.013797759'}, {'keyword': 'job', 'p': '0.013087387'}, {'keyword': 'american', 'p': '0.011741191'}, {'keyword': 'give', 'p': '0.008568484'}, {'keyword': 'year', 'p': '0.008063952'}]}, 1996: {0: [{'keyword': 'american', 'p': '0.01461226'}, {'keyword': 'country', 'p': '0.011425032'}, {'keyword': 'time', 'p': '0.010611165'}, {'keyword': 'want', 'p': '0.01043401'}, {'keyword': 'year', 'p': '0.009515508'}], 1: [{'keyword': 'need', 'p': '0.012238798'}, {'keyword': 'work', 'p': '0.011819696'}, {'keyword': 'new', 'p': '0.011778553'}, {'keyword': 'pay', 'p': '0.011513193'}, {'keyword': 'good', 'p': '0.009663222'}], 2: [{'keyword': 'make', 'p': '0.017477078'}, {'keyword': 'year', 'p': '0.016797025'}, {'keyword': 'america', 'p': '0.013341047'}, {'keyword': 'family', 'p': '0.010889632'}, {'keyword': 'strong', 'p': '0.009575035'}], 3: [{'keyword': 'make', 'p': '0.011595924'}, {'keyword': 'america', 'p': '0.0112625295'}, {'keyword': 'still', 'p': '0.008003885'}, {'keyword': 'world', 'p': '0.00792293'}, {'keyword': 'use', 'p': '0.007724269'}], 4: [{'keyword': 'new', 'p': '0.016507871'}, {'keyword': 'thing', 'p': '0.010699353'}, {'keyword': 'one', 'p': '0.009976143'}, {'keyword': 'make', 'p': '0.008738572'}, {'keyword': 'time', 'p': '0.008217453'}]}, 1997: {0: [{'keyword': 'state', 'p': '0.021639893'}, {'keyword': 'government', 'p': '0.013466893'}, {'keyword': 'constitution', 'p': '0.011387926'}, {'keyword': 'congress', 'p': '0.010114048'}, {'keyword': 'power', 'p': '0.010018773'}], 1: [{'keyword': 'state', 'p': '0.014691119'}, {'keyword': 'congress', 'p': '0.010792078'}, {'keyword': 'government', 'p': '0.009344483'}, {'keyword': 'country', 'p': '0.0077719484'}, {'keyword': 'duty', 'p': '0.007156609'}], 2: [{'keyword': 'state', 'p': '0.022032076'}, {'keyword': 'government', 'p': '0.013715423'}, {'keyword': 'would', 'p': '0.011697807'}, {'keyword': 'constitution', 'p': '0.010947615'}, {'keyword': 'upon', 'p': '0.008818528'}], 3: [{'keyword': 'would', 'p': '0.011249864'}, {'keyword': 'duty', 'p': '0.009589167'}, {'keyword': 'state', 'p': '0.009377233'}, {'keyword': 'present', 'p': '0.008299969'}, {'keyword': 'constitution', 'p': '0.007950237'}], 4: [{'keyword': 'state', 'p': '0.029205298'}, {'keyword': 'government', 'p': '0.010805844'}, {'keyword': 'shall', 'p': '0.008954633'}, {'keyword': 'united', 'p': '0.008777398'}, {'keyword': 'power', 'p': '0.0076888534'}]}, 1998: {0: [{'keyword': 'tax', 'p': '0.01054138'}, {'keyword': 'cut', 'p': '0.009468609'}, {'keyword': 'also', 'p': '0.007864584'}, {'keyword': 'year', 'p': '0.0076718'}, {'keyword': 'must', 'p': '0.007634159'}], 1: [{'keyword': 'cut', 'p': '0.01443672'}, {'keyword': 'government', 'p': '0.012958206'}, {'keyword': 'get', 'p': '0.0093489'}, {'keyword': 'people', 'p': '0.00900705'}, {'keyword': 'year', 'p': '0.008315944'}], 2: [{'keyword': 'work', 'p': '0.019136876'}, {'keyword': 'year', 'p': '0.016871138'}, {'keyword': 'people', 'p': '0.0149342995'}, {'keyword': 'new', 'p': '0.0103924135'}, {'keyword': 'make', 'p': '0.010108102'}], 3: [{'keyword': 'people', 'p': '0.024905916'}, {'keyword': 'way', 'p': '0.017487295'}, {'keyword': 'work', 'p': '0.013053161'}, {'keyword': 'new', 'p': '0.0106741125'}, {'keyword': 'let', 'p': '0.010642214'}], 4: [{'keyword': 'work', 'p': '0.017479293'}, {'keyword': 'country', 'p': '0.0147151975'}, {'keyword': 'year', 'p': '0.011342766'}, {'keyword': 'american', 'p': '0.010643813'}, {'keyword': 'must', 'p': '0.009414304'}]}, 1999: {0: [{'keyword': 'government', 'p': '0.01489117'}, {'keyword': 'make', 'p': '0.008313264'}, {'keyword': 'upon', 'p': '0.00713799'}, {'keyword': 'consideration', 'p': '0.005999911'}, {'keyword': 'order', 'p': '0.005786889'}], 1: [{'keyword': 'government', 'p': '0.011610385'}, {'keyword': 'state', 'p': '0.009926664'}, {'keyword': 'great', 'p': '0.0097682355'}, {'keyword': 'public', 'p': '0.0092163235'}, {'keyword': 'country', 'p': '0.008239485'}], 2: [{'keyword': 'state', 'p': '0.0149588585'}, {'keyword': 'may', 'p': '0.01243246'}, {'keyword': 'great', 'p': '0.007736708'}, {'keyword': 'united', 'p': '0.007060583'}, {'keyword': 'government', 'p': '0.0066526555'}], 3: [{'keyword': 'state', 'p': '0.016217222'}, {'keyword': 'government', 'p': '0.010816682'}, {'keyword': 'united', 'p': '0.0071088946'}, {'keyword': 'upon', 'p': '0.0064395396'}, {'keyword': 'without', 'p': '0.0061713005'}], 4: [{'keyword': 'government', 'p': '0.017538968'}, {'keyword': 'may', 'p': '0.01580401'}, {'keyword': 'without', 'p': '0.006726032'}, {'keyword': 'law', 'p': '0.005481462'}, {'keyword': 'state', 'p': '0.0054297675'}]}, 2000: {0: [{'keyword': 'state', 'p': '0.016443517'}, {'keyword': 'country', 'p': '0.008495649'}, {'keyword': 'may', 'p': '0.008485758'}, {'keyword': 'public', 'p': '0.0076720132'}, {'keyword': 'united', 'p': '0.007053928'}], 1: [{'keyword': 'proclamation', 'p': '0.011412993'}, {'keyword': 'upon', 'p': '0.009253946'}, {'keyword': 'may', 'p': '0.008476722'}, {'keyword': 'emancipation', 'p': '0.008051106'}, {'keyword': 'state', 'p': '0.00724859'}], 2: [{'keyword': 'power', 'p': '0.0073475786'}, {'keyword': 'report', 'p': '0.0070508006'}, {'keyword': 'state', 'p': '0.0062051457'}, {'keyword': 'make', 'p': '0.0061988784'}, {'keyword': 'upon', 'p': '0.0060885516'}], 3: [{'keyword': 'state', 'p': '0.009259737'}, {'keyword': 'service', 'p': '0.009239271'}, {'keyword': 'land', 'p': '0.0075784666'}, {'keyword': 'last', 'p': '0.0069283326'}, {'keyword': 'subject', 'p': '0.0065441704'}], 4: [{'keyword': 'state', 'p': '0.023621555'}, {'keyword': 'united', 'p': '0.010805249'}, {'keyword': 'government', 'p': '0.0089580035'}, {'keyword': 'great', 'p': '0.008435019'}, {'keyword': 'citizen', 'p': '0.008005165'}]}, 2001: {0: [{'keyword': 'year', 'p': '0.011873708'}, {'keyword': 'state', 'p': '0.008033869'}, {'keyword': 'upon', 'p': '0.006914229'}, {'keyword': 'gold', 'p': '0.0061264955'}, {'keyword': 'gun', 'p': '0.0060832137'}], 1: [{'keyword': 'government', 'p': '0.010894949'}, {'keyword': 'year', 'p': '0.0080341585'}, {'keyword': 'make', 'p': '0.00802128'}, {'keyword': 'interest', 'p': '0.006646685'}, {'keyword': 'may', 'p': '0.0060196817'}], 2: [{'keyword': 'state', 'p': '0.012737849'}, {'keyword': 'may', 'p': '0.008249039'}, {'keyword': 'congress', 'p': '0.006503699'}, {'keyword': 'government', 'p': '0.006337255'}, {'keyword': 'country', 'p': '0.0060924604'}], 3: [{'keyword': 'year', 'p': '0.014288699'}, {'keyword': 'government', 'p': '0.009456228'}, {'keyword': 'increase', 'p': '0.0065858117'}, {'keyword': 'public', 'p': '0.0061952253'}, {'keyword': 'present', 'p': '0.005444105'}], 4: [{'keyword': 'year', 'p': '0.008588261'}, {'keyword': 'cent', 'p': '0.008360704'}, {'keyword': 'government', 'p': '0.008176316'}, {'keyword': 'per', 'p': '0.007650891'}, {'keyword': 'present', 'p': '0.0053609554'}]}, 2002: {0: [{'keyword': 'government', 'p': '0.011694247'}, {'keyword': 'economy', 'p': '0.01062931'}, {'keyword': 'year', 'p': '0.01034434'}, {'keyword': 'free', 'p': '0.008568035'}, {'keyword': 'american', 'p': '0.008445628'}], 1: [{'keyword': 'year', 'p': '0.017713986'}, {'keyword': 'reduce', 'p': '0.007805941'}, {'keyword': 'america', 'p': '0.0073002633'}, {'keyword': 'make', 'p': '0.006193862'}, {'keyword': 'program', 'p': '0.006138876'}], 2: [{'keyword': 'year', 'p': '0.013793567'}, {'keyword': 'freedom', 'p': '0.010032844'}, {'keyword': 'peace', 'p': '0.009864267'}, {'keyword': 'need', 'p': '0.008795784'}, {'keyword': 'great', 'p': '0.008035438'}], 3: [{'keyword': 'time', 'p': '0.010621217'}, {'keyword': 'new', 'p': '0.009004586'}, {'keyword': 'revolution', 'p': '0.008927282'}, {'keyword': 'opportunity', 'p': '0.008856796'}, {'keyword': 'american', 'p': '0.008616401'}], 4: [{'keyword': 'tax', 'p': '0.013859952'}, {'keyword': 'year', 'p': '0.00942601'}, {'keyword': 'well', 'p': '0.009219013'}, {'keyword': 'new', 'p': '0.008593158'}, {'keyword': 'american', 'p': '0.007875962'}]}, 2003: {0: [{'keyword': 'make', 'p': '0.006885186'}, {'keyword': 'state', 'p': '0.0062077753'}, {'keyword': 'time', 'p': '0.006122268'}, {'keyword': 'american', 'p': '0.005974265'}, {'keyword': 'interest', 'p': '0.0059427447'}], 1: [{'keyword': 'state', 'p': '0.0117882965'}, {'keyword': 'government', 'p': '0.009977854'}, {'keyword': 'make', 'p': '0.007986564'}, {'keyword': 'upon', 'p': '0.007976314'}, {'keyword': 'law', 'p': '0.007535173'}], 2: [{'keyword': 'make', 'p': '0.012149305'}, {'keyword': 'state', 'p': '0.007951492'}, {'keyword': 'government', 'p': '0.007913119'}, {'keyword': 'land', 'p': '0.007843122'}, {'keyword': 'general', 'p': '0.0077404743'}], 3: [{'keyword': 'law', 'p': '0.010914528'}, {'keyword': 'year', 'p': '0.0068015447'}, {'keyword': 'state', 'p': '0.006516247'}, {'keyword': 'congress', 'p': '0.006304045'}, {'keyword': 'department', 'p': '0.0062632137'}], 4: [{'keyword': 'upon', 'p': '0.010888031'}, {'keyword': 'state', 'p': '0.010517045'}, {'keyword': 'government', 'p': '0.009453985'}, {'keyword': 'congress', 'p': '0.008239166'}, {'keyword': 'may', 'p': '0.005662699'}]}, 2004: {0: [{'keyword': 'state', 'p': '0.01237615'}, {'keyword': 'make', 'p': '0.010224583'}, {'keyword': 'congress', 'p': '0.0067309127'}, {'keyword': 'government', 'p': '0.006633554'}, {'keyword': 'great', 'p': '0.0059980983'}], 1: [{'keyword': 'law', 'p': '0.009038608'}, {'keyword': 'great', 'p': '0.0072084274'}, {'keyword': 'one', 'p': '0.0069119525'}, {'keyword': 'nation', 'p': '0.006635144'}, {'keyword': 'government', 'p': '0.0065667'}], 2: [{'keyword': 'law', 'p': '0.01023122'}, {'keyword': 'need', 'p': '0.0077719595'}, {'keyword': 'must', 'p': '0.007274548'}, {'keyword': 'good', 'p': '0.0066285552'}, {'keyword': 'nation', 'p': '0.0063413857'}], 3: [{'keyword': 'law', 'p': '0.009441246'}, {'keyword': 'people', 'p': '0.0057807122'}, {'keyword': 'would', 'p': '0.0053919763'}, {'keyword': 'man', 'p': '0.0046876185'}, {'keyword': 'power', 'p': '0.004600731'}], 4: [{'keyword': 'government', 'p': '0.00878937'}, {'keyword': 'state', 'p': '0.0076151704'}, {'keyword': 'work', 'p': '0.0052722497'}, {'keyword': 'make', 'p': '0.005138673'}, {'keyword': 'nation', 'p': '0.0051376224'}]}, 2005: {0: [{'keyword': 'america', 'p': '0.012566623'}, {'keyword': 'freedom', 'p': '0.012241488'}, {'keyword': 'american', 'p': '0.010443416'}, {'keyword': 'never', 'p': '0.009432326'}, {'keyword': 'people', 'p': '0.007958422'}], 1: [{'keyword': 'congress', 'p': '0.015139699'}, {'keyword': 'year', 'p': '0.011206825'}, {'keyword': 'state', 'p': '0.009593497'}, {'keyword': 'united', 'p': '0.009590568'}, {'keyword': 'well', 'p': '0.0089721'}], 2: [{'keyword': 'congress', 'p': '0.013936393'}, {'keyword': 'america', 'p': '0.009036263'}, {'keyword': 'know', 'p': '0.008632918'}, {'keyword': 'set', 'p': '0.007834941'}, {'keyword': 'people', 'p': '0.0071147587'}], 3: [{'keyword': 'people', 'p': '0.009009237'}, {'keyword': 'new', 'p': '0.008611653'}, {'keyword': 'well', 'p': '0.008019259'}, {'keyword': 'budget', 'p': '0.007945898'}, {'keyword': 'make', 'p': '0.007919398'}], 4: [{'keyword': 'america', 'p': '0.020907741'}, {'keyword': 'people', 'p': '0.01643796'}, {'keyword': 'let', 'p': '0.016219081'}, {'keyword': 'government', 'p': '0.009513033'}, {'keyword': 'american', 'p': '0.008735968'}]}, 2006: {0: [{'keyword': 'government', 'p': '0.011253297'}, {'keyword': 'people', 'p': '0.00980865'}, {'keyword': 'must', 'p': '0.009619885'}, {'keyword': 'dollar', 'p': '0.009297757'}, {'keyword': 'billion', 'p': '0.009087885'}], 1: [{'keyword': 'government', 'p': '0.018479548'}, {'keyword': 'nation', 'p': '0.010259241'}, {'keyword': 'work', 'p': '0.00978223'}, {'keyword': 'dollar', 'p': '0.009757977'}, {'keyword': 'labor', 'p': '0.00809827'}], 2: [{'keyword': 'new', 'p': '0.014466795'}, {'keyword': 'democracy', 'p': '0.0110270195'}, {'keyword': 'faith', 'p': '0.010437422'}, {'keyword': 'need', 'p': '0.009995812'}, {'keyword': 'nation', 'p': '0.009261546'}], 3: [{'keyword': 'nation', 'p': '0.014950447'}, {'keyword': 'democracy', 'p': '0.011421096'}, {'keyword': 'may', 'p': '0.009905123'}, {'keyword': 'mean', 'p': '0.007558258'}, {'keyword': 'must', 'p': '0.0074112536'}], 4: [{'keyword': 'cost', 'p': '0.010423299'}, {'keyword': 'government', 'p': '0.009273314'}, {'keyword': 'idle', 'p': '0.009228993'}, {'keyword': 'tax', 'p': '0.009029457'}, {'keyword': 'capital', 'p': '0.008772002'}]}, 2007: {0: [{'keyword': 'shall', 'p': '0.01171227'}, {'keyword': 'country', 'p': '0.010927599'}, {'keyword': 'upon', 'p': '0.009731638'}, {'keyword': 'must', 'p': '0.009276899'}, {'keyword': 'state', 'p': '0.009274487'}], 1: [{'keyword': 'country', 'p': '0.012980377'}, {'keyword': 'people', 'p': '0.012729339'}, {'keyword': 'every', 'p': '0.008498917'}, {'keyword': 'make', 'p': '0.00802769'}, {'keyword': 'would', 'p': '0.007873579'}], 2: [{'keyword': 'part', 'p': '0.0107569'}, {'keyword': 'upon', 'p': '0.009760204'}, {'keyword': 'hope', 'p': '0.00896296'}, {'keyword': 'state', 'p': '0.007847583'}, {'keyword': 'law', 'p': '0.0068977843'}], 3: [{'keyword': 'upon', 'p': '0.015108064'}, {'keyword': 'government', 'p': '0.011960763'}, {'keyword': 'matter', 'p': '0.007994869'}, {'keyword': 'believe', 'p': '0.0071900017'}, {'keyword': 'state', 'p': '0.007164147'}], 4: [{'keyword': 'country', 'p': '0.012699984'}, {'keyword': 'make', 'p': '0.011280691'}, {'keyword': 'government', 'p': '0.011179298'}, {'keyword': 'business', 'p': '0.0098039815'}, {'keyword': 'service', 'p': '0.007967692'}]}, 2008: {0: [{'keyword': 'war', 'p': '0.015492474'}, {'keyword': 'would', 'p': '0.008657733'}, {'keyword': 'government', 'p': '0.00853416'}, {'keyword': 'british', 'p': '0.008296066'}, {'keyword': 'great', 'p': '0.00684657'}], 1: [{'keyword': 'war', 'p': '0.012399854'}, {'keyword': 'state', 'p': '0.012154375'}, {'keyword': 'united', 'p': '0.01091251'}, {'keyword': 'british', 'p': '0.008073409'}, {'keyword': 'time', 'p': '0.0073291063'}], 2: [{'keyword': 'war', 'p': '0.009103231'}, {'keyword': 'american', 'p': '0.0073764385'}, {'keyword': 'command', 'p': '0.007296184'}, {'keyword': 'officer', 'p': '0.0066640098'}, {'keyword': 'country', 'p': '0.0058252476'}], 3: [{'keyword': 'war', 'p': '0.01952817'}, {'keyword': 'enemy', 'p': '0.014760997'}, {'keyword': 'great', 'p': '0.010130216'}, {'keyword': 'state', 'p': '0.009556379'}, {'keyword': 'british', 'p': '0.009460605'}], 4: [{'keyword': 'state', 'p': '0.01192249'}, {'keyword': 'british', 'p': '0.011855137'}, {'keyword': 'prisoner', 'p': '0.008032504'}, {'keyword': 'war', 'p': '0.0075442935'}, {'keyword': 'million', 'p': '0.0074972017'}]}, 2009: {0: [{'keyword': 'government', 'p': '0.010924495'}, {'keyword': 'state', 'p': '0.0091925375'}, {'keyword': 'present', 'p': '0.008242487'}, {'keyword': 'treaty', 'p': '0.008219174'}, {'keyword': 'citizen', 'p': '0.0073628225'}], 1: [{'keyword': 'state', 'p': '0.023836374'}, {'keyword': 'make', 'p': '0.009933561'}, {'keyword': 'may', 'p': '0.008179338'}, {'keyword': 'present', 'p': '0.0065633254'}, {'keyword': 'give', 'p': '0.0062511982'}], 2: [{'keyword': 'state', 'p': '0.010742965'}, {'keyword': 'commerce', 'p': '0.007879962'}, {'keyword': 'treaty', 'p': '0.0070549157'}, {'keyword': 'may', 'p': '0.0062855026'}, {'keyword': 'government', 'p': '0.0060191243'}], 3: [{'keyword': 'duty', 'p': '0.0078100166'}, {'keyword': 'deem', 'p': '0.006348329'}, {'keyword': 'law', 'p': '0.0060290997'}, {'keyword': 'present', 'p': '0.0057309032'}, {'keyword': 'government', 'p': '0.0056073875'}], 4: [{'keyword': 'shall', 'p': '0.010308968'}, {'keyword': 'power', 'p': '0.009077442'}, {'keyword': 'give', 'p': '0.008575975'}, {'keyword': 'state', 'p': '0.008478511'}, {'keyword': 'may', 'p': '0.007766541'}]}, 2010: {0: [{'keyword': 'government', 'p': '0.0168245'}, {'keyword': 'state', 'p': '0.014563106'}, {'keyword': 'act', 'p': '0.010688501'}, {'keyword': 'per', 'p': '0.008739139'}, {'keyword': 'united', 'p': '0.008707875'}], 1: [{'keyword': 'state', 'p': '0.015754752'}, {'keyword': 'united', 'p': '0.014255353'}, {'keyword': 'provide', 'p': '0.008973588'}, {'keyword': 'congress', 'p': '0.0085039865'}, {'keyword': 'increase', 'p': '0.0076677143'}], 2: [{'keyword': 'would', 'p': '0.01186436'}, {'keyword': 'state', 'p': '0.011677776'}, {'keyword': 'claim', 'p': '0.0073640984'}, {'keyword': 'united', 'p': '0.0073346645'}, {'keyword': 'upon', 'p': '0.007240184'}], 3: [{'keyword': 'state', 'p': '0.012289126'}, {'keyword': 'congress', 'p': '0.010890469'}, {'keyword': 'would', 'p': '0.010141829'}, {'keyword': 'make', 'p': '0.008409069'}, {'keyword': 'report', 'p': '0.0078640785'}], 4: [{'keyword': 'make', 'p': '0.012137729'}, {'keyword': 'united', 'p': '0.011708721'}, {'keyword': 'state', 'p': '0.0115038585'}, {'keyword': 'year', 'p': '0.009176194'}, {'keyword': 'indian', 'p': '0.006431297'}]}, 2011: {0: [{'keyword': 'state', 'p': '0.01159953'}, {'keyword': 'great', 'p': '0.010856567'}, {'keyword': 'united', 'p': '0.0093868505'}, {'keyword': 'part', 'p': '0.008584741'}, {'keyword': 'power', 'p': '0.006516939'}], 1: [{'keyword': 'make', 'p': '0.015829507'}, {'keyword': 'government', 'p': '0.015695693'}, {'keyword': 'state', 'p': '0.012834386'}, {'keyword': 'congress', 'p': '0.009615172'}, {'keyword': 'spain', 'p': '0.00901787'}], 2: [{'keyword': 'great', 'p': '0.024773201'}, {'keyword': 'every', 'p': '0.009686883'}, {'keyword': 'make', 'p': '0.008586373'}, {'keyword': 'interest', 'p': '0.0085343905'}, {'keyword': 'protection', 'p': '0.008265099'}], 3: [{'keyword': 'great', 'p': '0.010970177'}, {'keyword': 'new', 'p': '0.008841502'}, {'keyword': 'state', 'p': '0.008651403'}, {'keyword': 'amount', 'p': '0.008503341'}, {'keyword': 'form', 'p': '0.006733624'}], 4: [{'keyword': 'government', 'p': '0.010384331'}, {'keyword': 'part', 'p': '0.009653958'}, {'keyword': 'coast', 'p': '0.008129981'}, {'keyword': 'public', 'p': '0.007304771'}, {'keyword': 'make', 'p': '0.0070743375'}]}, 2012: {0: [{'keyword': 'america', 'p': '0.017876862'}, {'keyword': 'must', 'p': '0.014962173'}, {'keyword': 'tonight', 'p': '0.009945764'}, {'keyword': 'future', 'p': '0.009520555'}, {'keyword': 'freedom', 'p': '0.008245806'}], 1: [{'keyword': 'america', 'p': '0.020846462'}, {'keyword': 'work', 'p': '0.010318669'}, {'keyword': 'nation', 'p': '0.010302958'}, {'keyword': 'family', 'p': '0.010006597'}, {'keyword': 'meet', 'p': '0.009832424'}], 2: [{'keyword': 'year', 'p': '0.011669733'}, {'keyword': 'dream', 'p': '0.01076976'}, {'keyword': 'give', 'p': '0.010639024'}, {'keyword': 'great', 'p': '0.010598643'}, {'keyword': 'see', 'p': '0.010104961'}], 3: [{'keyword': 'family', 'p': '0.008278848'}, {'keyword': 'tax', 'p': '0.008208624'}, {'keyword': 'strong', 'p': '0.007289836'}, {'keyword': 'well', 'p': '0.007274089'}, {'keyword': 'budget', 'p': '0.007207268'}], 4: [{'keyword': 'work', 'p': '0.009373519'}, {'keyword': 'national', 'p': '0.007653669'}, {'keyword': 'give', 'p': '0.0074678315'}, {'keyword': 'people', 'p': '0.007303727'}, {'keyword': 'live', 'p': '0.0072325096'}]}, 2013: {0: [{'keyword': 'state', 'p': '0.019889507'}, {'keyword': 'government', 'p': '0.009452014'}, {'keyword': 'united', 'p': '0.009401535'}, {'keyword': 'country', 'p': '0.009180386'}, {'keyword': 'congress', 'p': '0.008402178'}], 1: [{'keyword': 'year', 'p': '0.011452311'}, {'keyword': 'last', 'p': '0.009916518'}, {'keyword': 'subject', 'p': '0.008277457'}, {'keyword': 'congress', 'p': '0.0074281697'}, {'keyword': 'upon', 'p': '0.0070675476'}], 2: [{'keyword': 'state', 'p': '0.01994259'}, {'keyword': 'government', 'p': '0.0105512'}, {'keyword': 'law', 'p': '0.010255116'}, {'keyword': 'united', 'p': '0.006168668'}, {'keyword': 'country', 'p': '0.005417066'}], 3: [{'keyword': 'government', 'p': '0.009535602'}, {'keyword': 'congress', 'p': '0.0072833668'}, {'keyword': 'service', 'p': '0.0069294632'}, {'keyword': 'last', 'p': '0.006459849'}, {'keyword': 'upon', 'p': '0.00644219'}], 4: [{'keyword': 'year', 'p': '0.016078945'}, {'keyword': 'make', 'p': '0.007784692'}, {'keyword': 'last', 'p': '0.006696903'}, {'keyword': 'department', 'p': '0.0065385727'}, {'keyword': 'present', 'p': '0.0058682566'}]}, 2014: {0: [{'keyword': 'government', 'p': '0.013608343'}, {'keyword': 'state', 'p': '0.010564774'}, {'keyword': 'public', 'p': '0.010402122'}, {'keyword': 'may', 'p': '0.00804086'}, {'keyword': 'two', 'p': '0.0066961367'}], 1: [{'keyword': 'state', 'p': '0.01405825'}, {'keyword': 'government', 'p': '0.009701173'}, {'keyword': 'united', 'p': '0.008970756'}, {'keyword': 'interest', 'p': '0.008907641'}, {'keyword': 'public', 'p': '0.007575418'}], 2: [{'keyword': 'state', 'p': '0.011588939'}, {'keyword': 'government', 'p': '0.009073512'}, {'keyword': 'receive', 'p': '0.008593754'}, {'keyword': 'year', 'p': '0.008578565'}, {'keyword': 'last', 'p': '0.008153145'}], 3: [{'keyword': 'state', 'p': '0.012290381'}, {'keyword': 'make', 'p': '0.009489266'}, {'keyword': 'may', 'p': '0.008262515'}, {'keyword': 'duty', 'p': '0.008024946'}, {'keyword': 'upon', 'p': '0.0076979226'}], 4: [{'keyword': 'state', 'p': '0.023167437'}, {'keyword': 'united', 'p': '0.010601534'}, {'keyword': 'government', 'p': '0.01047122'}, {'keyword': 'duty', 'p': '0.009664199'}, {'keyword': 'subject', 'p': '0.008394114'}]}, 2015: {0: [{'keyword': 'foreign', 'p': '0.010025611'}, {'keyword': 'trade', 'p': '0.009923957'}, {'keyword': 'government', 'p': '0.009810829'}, {'keyword': 'british', 'p': '0.009021823'}, {'keyword': 'citizen', 'p': '0.008249869'}], 1: [{'keyword': 'united', 'p': '0.0103114685'}, {'keyword': 'state', 'p': '0.010303471'}, {'keyword': 'national', 'p': '0.008423662'}, {'keyword': 'ample', 'p': '0.008145097'}, {'keyword': 'may', 'p': '0.006863321'}], 2: [{'keyword': 'state', 'p': '0.019083489'}, {'keyword': 'united', 'p': '0.010821116'}, {'keyword': 'government', 'p': '0.010613699'}, {'keyword': 'order', 'p': '0.008797211'}, {'keyword': 'british', 'p': '0.008348534'}], 3: [{'keyword': 'toward', 'p': '0.010345363'}, {'keyword': 'may', 'p': '0.00776752'}, {'keyword': 'state', 'p': '0.0074722744'}, {'keyword': 'united', 'p': '0.0074612186'}, {'keyword': 'enable', 'p': '0.007442343'}], 4: [{'keyword': 'congress', 'p': '0.010555512'}, {'keyword': 'may', 'p': '0.009779336'}, {'keyword': 'make', 'p': '0.009752663'}, {'keyword': 'change', 'p': '0.008618453'}, {'keyword': 'authorize', 'p': '0.008192185'}]}, 2016: {0: [{'keyword': 'government', 'p': '0.014403596'}, {'keyword': 'great', 'p': '0.006695551'}, {'keyword': 'give', 'p': '0.006582509'}, {'keyword': 'state', 'p': '0.0061298287'}, {'keyword': 'people', 'p': '0.005635514'}], 1: [{'keyword': 'make', 'p': '0.009393892'}, {'keyword': 'work', 'p': '0.007752925'}, {'keyword': 'service', 'p': '0.006863094'}, {'keyword': 'important', 'p': '0.0064998944'}, {'keyword': 'court', 'p': '0.005616202'}], 2: [{'keyword': 'state', 'p': '0.010084927'}, {'keyword': 'law', 'p': '0.010052283'}, {'keyword': 'great', 'p': '0.008445975'}, {'keyword': 'government', 'p': '0.0073832106'}, {'keyword': 'american', 'p': '0.0058748107'}], 3: [{'keyword': 'nation', 'p': '0.007551953'}, {'keyword': 'would', 'p': '0.0072917454'}, {'keyword': 'work', 'p': '0.0069742976'}, {'keyword': 'congress', 'p': '0.0063102394'}, {'keyword': 'great', 'p': '0.0053814305'}], 4: [{'keyword': 'nation', 'p': '0.007720324'}, {'keyword': 'law', 'p': '0.007508277'}, {'keyword': 'upon', 'p': '0.0073330984'}, {'keyword': 'must', 'p': '0.007296155'}, {'keyword': 'right', 'p': '0.006559208'}]}}\n"
          ],
          "name": "stdout"
        }
      ]
    },
    {
      "cell_type": "code",
      "metadata": {
        "id": "wykBZTBb1EX5"
      },
      "source": [
        "import json\n",
        "\n",
        "with open('data.json', 'w') as fp:\n",
        "    json.dump(res, fp)"
      ],
      "execution_count": 95,
      "outputs": []
    },
    {
      "cell_type": "code",
      "metadata": {
        "id": "Svt4dmDAS40F"
      },
      "source": [
        ""
      ],
      "execution_count": null,
      "outputs": []
    },
    {
      "cell_type": "code",
      "metadata": {
        "id": "dWhubXTPDjQA"
      },
      "source": [
        ""
      ],
      "execution_count": null,
      "outputs": []
    }
  ]
}
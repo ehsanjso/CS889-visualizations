{
 "cells": [
  {
   "cell_type": "markdown",
   "id": "hawaiian-disposition",
   "metadata": {},
   "source": [
    "## Ehsan Jahangirzadeh Sorue | 20897765 | ejahangi | CS889"
   ]
  },
  {
   "cell_type": "code",
   "execution_count": 1,
   "id": "amended-cowboy",
   "metadata": {
    "ExecuteTime": {
     "end_time": "2021-05-31T04:53:59.104819Z",
     "start_time": "2021-05-31T04:53:58.753957Z"
    },
    "scrolled": true
   },
   "outputs": [],
   "source": [
    "from spmf import Spmf\n",
    "import pandas as pd"
   ]
  },
  {
   "cell_type": "code",
   "execution_count": 2,
   "id": "imperial-yugoslavia",
   "metadata": {
    "ExecuteTime": {
     "end_time": "2021-05-31T04:54:04.674340Z",
     "start_time": "2021-05-31T04:54:00.625765Z"
    },
    "scrolled": true
   },
   "outputs": [],
   "source": [
    "df = pd.read_csv('events.csv')\n",
    "grouped_data = df.groupby(['event_team','opponent'])\n",
    "# pd.DataFrame(grouped_data)\n",
    "dataframes = [group for _, group in grouped_data]"
   ]
  },
  {
   "cell_type": "code",
   "execution_count": 3,
   "id": "incoming-reviewer",
   "metadata": {
    "ExecuteTime": {
     "end_time": "2021-05-31T04:55:43.717018Z",
     "start_time": "2021-05-31T04:55:43.491440Z"
    }
   },
   "outputs": [],
   "source": [
    "allMatchEventsAsSequence = []\n",
    "for game in dataframes:\n",
    "    allMatchEventsAsSequence.append([game[\"event_type\"].tolist()])"
   ]
  },
  {
   "cell_type": "code",
   "execution_count": 4,
   "id": "tired-cargo",
   "metadata": {
    "ExecuteTime": {
     "end_time": "2021-05-31T04:57:24.508926Z",
     "start_time": "2021-05-31T04:57:24.489973Z"
    }
   },
   "outputs": [
    {
     "data": {
      "text/plain": [
       "87"
      ]
     },
     "execution_count": 4,
     "metadata": {},
     "output_type": "execute_result"
    }
   ],
   "source": [
    "len(allMatchEventsAsSequence[0][0])"
   ]
  },
  {
   "cell_type": "code",
   "execution_count": 7,
   "id": "african-burton",
   "metadata": {
    "ExecuteTime": {
     "end_time": "2021-05-31T05:18:09.886760Z",
     "start_time": "2021-05-31T05:18:09.883866Z"
    },
    "scrolled": false
   },
   "outputs": [],
   "source": [
    "# spmf = Spmf(\"PrefixSpan\", input_filename=allMatchEventsAsSequence[:2],\n",
    "#             output_filename=\"output.txt\", arguments=[.7, \"\", True])\n",
    "# spmf.run()\n",
    "# pd.DataFrame(spmf.to_pandas_dataframe(pickle=True))"
   ]
  },
  {
   "cell_type": "code",
   "execution_count": 9,
   "id": "satisfactory-phrase",
   "metadata": {
    "ExecuteTime": {
     "end_time": "2021-05-31T05:53:07.718528Z",
     "start_time": "2021-05-31T05:53:07.252282Z"
    }
   },
   "outputs": [
    {
     "name": "stdout",
     "output_type": "stream",
     "text": [
      ">/Users/ehsanjso/Desktop/Waterloo/Second term/CS889/VD3/spmf.jar\n",
      "=============  PREFIXSPAN 0.99-2016 - STATISTICS =============\n",
      " Total time ~ 7 ms\n",
      " Frequent sequences count : 5\n",
      " Max memory (mb) : 7.2645416259765625\n",
      " minsup = 4 sequences.\n",
      " Pattern count : 5\n",
      "===================================================\n",
      "\n",
      "\n",
      "  pattern  sup\n",
      "0     [1]    4\n",
      "1  [1, 2]    4\n",
      "2  [1, 3]    4\n",
      "3     [2]    4\n",
      "4     [3]    4\n"
     ]
    }
   ],
   "source": [
    "# Different input formats (apart from file):\n",
    "\n",
    "input_example_list = [\n",
    "    [[1], [1, 2, 3], [1, 3], [4], [3, 6]],\n",
    "    [[1, 4], [3], [2, 3], [1, 5]],\n",
    "    [[5, 6], [1, 2], [4, 6], [3], [2]],\n",
    "    [[5], [7], [1, 6], [3], [2], [3]]\n",
    "]\n",
    "\n",
    "\n",
    "# Different arguments:\n",
    "\n",
    "# spmf = Spmf(\"PrefixSpan\", input_filename=\"contextPrefixSpan.txt\",\n",
    "            # output_filename=\"output.txt\", arguments=[1, \"\", True])\n",
    "\n",
    "# spmf = Spmf(\"PrefixSpan\", input_direct=input_example_raw,\n",
    "#             output_filename=\"output.txt\",\n",
    "#             arguments=[1, \"\", True])\n",
    "\n",
    "# spmf = Spmf(\"PrefixSpan\", input_direct=input_example_raw_text,\n",
    "            # input_type=\"text\",\n",
    "            # output_filename=\"output.txt\",\n",
    "            # arguments=[1, \"\", True])\n",
    "\n",
    "spmf = Spmf(\"PrefixSpan\", input_direct=input_example_list,\n",
    "            output_filename=\"output.txt\",\n",
    "            arguments=[1, \"\", True])\n",
    "\n",
    "# spmf = Spmf(\"PrefixSpan\", input_direct=input_example_list_text,\n",
    "            # input_type=\"text\",\n",
    "            # output_filename=\"output.txt\",\n",
    "            # arguments=[1, \"\", True])\n",
    "\n",
    "spmf.run()\n",
    "# print(spmf.parse_output())\n",
    "print(spmf.to_pandas_dataframe(pickle=True))\n",
    "spmf.to_csv(\"output.csv\")"
   ]
  },
  {
   "cell_type": "markdown",
   "id": "static-legislature",
   "metadata": {},
   "source": [
    "# SPADE"
   ]
  },
  {
   "cell_type": "code",
   "execution_count": null,
   "id": "incorporated-arthritis",
   "metadata": {},
   "outputs": [],
   "source": []
  },
  {
   "cell_type": "markdown",
   "id": "editorial-austria",
   "metadata": {},
   "source": [
    "# PrefixSpan"
   ]
  },
  {
   "cell_type": "code",
   "execution_count": null,
   "id": "acoustic-mistake",
   "metadata": {},
   "outputs": [],
   "source": []
  }
 ],
 "metadata": {
  "kernelspec": {
   "display_name": "Python 3",
   "language": "python",
   "name": "python3"
  },
  "language_info": {
   "codemirror_mode": {
    "name": "ipython",
    "version": 3
   },
   "file_extension": ".py",
   "mimetype": "text/x-python",
   "name": "python",
   "nbconvert_exporter": "python",
   "pygments_lexer": "ipython3",
   "version": "3.9.1"
  },
  "toc": {
   "base_numbering": 1,
   "nav_menu": {},
   "number_sections": true,
   "sideBar": true,
   "skip_h1_title": false,
   "title_cell": "Table of Contents",
   "title_sidebar": "Contents",
   "toc_cell": false,
   "toc_position": {},
   "toc_section_display": true,
   "toc_window_display": false
  },
  "varInspector": {
   "cols": {
    "lenName": 16,
    "lenType": 16,
    "lenVar": 40
   },
   "kernels_config": {
    "python": {
     "delete_cmd_postfix": "",
     "delete_cmd_prefix": "del ",
     "library": "var_list.py",
     "varRefreshCmd": "print(var_dic_list())"
    },
    "r": {
     "delete_cmd_postfix": ") ",
     "delete_cmd_prefix": "rm(",
     "library": "var_list.r",
     "varRefreshCmd": "cat(var_dic_list()) "
    }
   },
   "types_to_exclude": [
    "module",
    "function",
    "builtin_function_or_method",
    "instance",
    "_Feature"
   ],
   "window_display": false
  }
 },
 "nbformat": 4,
 "nbformat_minor": 5
}
